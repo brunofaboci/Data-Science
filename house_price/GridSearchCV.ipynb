{
  "nbformat": 4,
  "nbformat_minor": 0,
  "metadata": {
    "colab": {
      "name": "GridSearchCV.ipynb",
      "provenance": [],
      "collapsed_sections": [],
      "include_colab_link": true
    },
    "kernelspec": {
      "name": "python3",
      "display_name": "Python 3"
    }
  },
  "cells": [
    {
      "cell_type": "markdown",
      "metadata": {
        "id": "view-in-github",
        "colab_type": "text"
      },
      "source": [
        "<a href=\"https://colab.research.google.com/github/brunofaboci/Data-Science/blob/master/house_price/GridSearchCV.ipynb\" target=\"_parent\"><img src=\"https://colab.research.google.com/assets/colab-badge.svg\" alt=\"Open In Colab\"/></a>"
      ]
    },
    {
      "cell_type": "code",
      "metadata": {
        "id": "3RlprPOeU_j8",
        "colab_type": "code",
        "outputId": "545957c1-e72d-46e8-a8c4-04a4ec926e2c",
        "colab": {
          "base_uri": "https://localhost:8080/",
          "height": 122
        }
      },
      "source": [
        "from google.colab import drive\n",
        "drive.mount('/content/drive', force_remount=True)"
      ],
      "execution_count": 0,
      "outputs": [
        {
          "output_type": "stream",
          "text": [
            "Go to this URL in a browser: https://accounts.google.com/o/oauth2/auth?client_id=947318989803-6bn6qk8qdgf4n4g3pfee6491hc0brc4i.apps.googleusercontent.com&redirect_uri=urn%3aietf%3awg%3aoauth%3a2.0%3aoob&response_type=code&scope=email%20https%3a%2f%2fwww.googleapis.com%2fauth%2fdocs.test%20https%3a%2f%2fwww.googleapis.com%2fauth%2fdrive%20https%3a%2f%2fwww.googleapis.com%2fauth%2fdrive.photos.readonly%20https%3a%2f%2fwww.googleapis.com%2fauth%2fpeopleapi.readonly\n",
            "\n",
            "Enter your authorization code:\n",
            "··········\n",
            "Mounted at /content/drive\n"
          ],
          "name": "stdout"
        }
      ]
    },
    {
      "cell_type": "code",
      "metadata": {
        "id": "HuIyPCqJVCiV",
        "colab_type": "code",
        "colab": {}
      },
      "source": [
        "import pandas as pd\n",
        "import numpy as np\n",
        "import matplotlib.pyplot as plt"
      ],
      "execution_count": 0,
      "outputs": []
    },
    {
      "cell_type": "code",
      "metadata": {
        "id": "zrYt6gMLVcDv",
        "colab_type": "code",
        "colab": {}
      },
      "source": [
        "train = pd.read_csv('/content/drive/My Drive/Colab Notebooks/house_price/train.csv')\n",
        "test = pd.read_csv('/content/drive/My Drive/Colab Notebooks/house_price/test.csv')"
      ],
      "execution_count": 0,
      "outputs": []
    },
    {
      "cell_type": "code",
      "metadata": {
        "id": "bhT_mCpN3mwT",
        "colab_type": "code",
        "colab": {}
      },
      "source": [
        "def inputValues(df, lista):\n",
        "  for col in lista:\n",
        "    if df[col].dtype == object:\n",
        "      df[col].fillna('NA', inplace=True)\n",
        "    else:\n",
        "      df[col].fillna(0, inplace=True)\n"
      ],
      "execution_count": 0,
      "outputs": []
    },
    {
      "cell_type": "code",
      "metadata": {
        "id": "QgZ3fz2GCS53",
        "colab_type": "code",
        "colab": {}
      },
      "source": [
        "def toDate(df, lista):\n",
        "  for col in lista:\n",
        "    df['combined'] = df[col] * 1000 + 1\n",
        "    df[col] = pd.to_datetime(df['combined'], format='%Y%j')\n",
        "    df.drop(columns='combined', inplace=True)"
      ],
      "execution_count": 0,
      "outputs": []
    },
    {
      "cell_type": "markdown",
      "metadata": {
        "id": "1kFreQVYxEe6",
        "colab_type": "text"
      },
      "source": [
        "Dados de Treino"
      ]
    },
    {
      "cell_type": "code",
      "metadata": {
        "id": "WbziUFx024ee",
        "colab_type": "code",
        "colab": {}
      },
      "source": [
        "mean_lot = train['LotFrontage'].mean()\n",
        "train['LotFrontage'].fillna(mean_lot, inplace=True)\n",
        "\n",
        "train['MasVnrType'].fillna('None', inplace=True)\n",
        "\n",
        "train['Electrical'].fillna('SBrkr', inplace=True)\n",
        "\n",
        "train['GarageYrBlt'].fillna(train['YearBuilt'], inplace=True)"
      ],
      "execution_count": 0,
      "outputs": []
    },
    {
      "cell_type": "code",
      "metadata": {
        "id": "_kq2Qs1nwzc1",
        "colab_type": "code",
        "colab": {}
      },
      "source": [
        "lista = ['MSZoning','Alley', 'Utilities', 'Exterior1st', 'Exterior2nd', 'MasVnrArea', 'BsmtQual', 'BsmtCond', 'BsmtExposure', 'BsmtFinType1',\n",
        "              'BsmtFinSF1', 'BsmtFinType2', 'BsmtFinSF2', 'BsmtUnfSF', 'TotalBsmtSF', 'BsmtFullBath', 'BsmtHalfBath', 'KitchenQual', 'Functional',\n",
        "              'FireplaceQu', 'GarageType', 'GarageFinish', 'GarageCars', 'GarageArea', 'GarageQual', 'GarageCond', 'PoolQC', 'Fence', 'MiscFeature', \n",
        "              'SaleType']\n",
        "\n",
        "inputValues(train, lista)"
      ],
      "execution_count": 0,
      "outputs": []
    },
    {
      "cell_type": "code",
      "metadata": {
        "id": "-OEkUXSWw8NK",
        "colab_type": "code",
        "outputId": "0edbafbc-32f0-49e2-d94c-82e023083d4d",
        "colab": {
          "base_uri": "https://localhost:8080/",
          "height": 34
        }
      },
      "source": [
        "train.isnull().any().sum()"
      ],
      "execution_count": 0,
      "outputs": [
        {
          "output_type": "execute_result",
          "data": {
            "text/plain": [
              "0"
            ]
          },
          "metadata": {
            "tags": []
          },
          "execution_count": 8
        }
      ]
    },
    {
      "cell_type": "markdown",
      "metadata": {
        "id": "ypNH_1TQlUIf",
        "colab_type": "text"
      },
      "source": [
        "Dados de Teste"
      ]
    },
    {
      "cell_type": "code",
      "metadata": {
        "id": "hVJGg5k4VmrZ",
        "colab_type": "code",
        "colab": {}
      },
      "source": [
        "mean_lot_test = test['LotFrontage'].mean()\n",
        "test['LotFrontage'].fillna(mean_lot_test, inplace=True)\n",
        "\n",
        "test['MasVnrType'].fillna('None', inplace=True)\n",
        "\n",
        "test['Electrical'].fillna('SBrkr', inplace=True)\n",
        "\n",
        "test['GarageYrBlt'].fillna(test['YearBuilt'], inplace=True)"
      ],
      "execution_count": 0,
      "outputs": []
    },
    {
      "cell_type": "code",
      "metadata": {
        "id": "rNMA4iytSrcz",
        "colab_type": "code",
        "colab": {}
      },
      "source": [
        "lista_test = ['MSZoning','Alley', 'Utilities', 'Exterior1st', 'Exterior2nd', 'MasVnrArea', 'BsmtQual', 'BsmtCond', 'BsmtExposure', 'BsmtFinType1',\n",
        "              'BsmtFinSF1', 'BsmtFinType2', 'BsmtFinSF2', 'BsmtUnfSF', 'TotalBsmtSF', 'BsmtFullBath', 'BsmtHalfBath', 'KitchenQual', 'Functional',\n",
        "              'FireplaceQu', 'GarageType', 'GarageFinish', 'GarageCars', 'GarageArea', 'GarageQual', 'GarageCond', 'PoolQC', 'Fence', 'MiscFeature', \n",
        "              'SaleType']\n",
        "\n",
        "inputValues(test, lista_test)"
      ],
      "execution_count": 0,
      "outputs": []
    },
    {
      "cell_type": "code",
      "metadata": {
        "id": "xyl4sEnXSraJ",
        "colab_type": "code",
        "outputId": "c423d4b0-404c-4566-a19b-2f357ecb8f38",
        "colab": {
          "base_uri": "https://localhost:8080/",
          "height": 34
        }
      },
      "source": [
        "test.isnull().any().sum()"
      ],
      "execution_count": 0,
      "outputs": [
        {
          "output_type": "execute_result",
          "data": {
            "text/plain": [
              "0"
            ]
          },
          "metadata": {
            "tags": []
          },
          "execution_count": 11
        }
      ]
    },
    {
      "cell_type": "code",
      "metadata": {
        "id": "s3VhtHcBc37q",
        "colab_type": "code",
        "colab": {}
      },
      "source": [
        "years = ['YearBuilt', 'YearRemodAdd', 'GarageYrBlt', 'YrSold']\n",
        "toDate(train, years)\n",
        "toDate(test, years)"
      ],
      "execution_count": 0,
      "outputs": []
    },
    {
      "cell_type": "code",
      "metadata": {
        "id": "-h8OdISnk2I3",
        "colab_type": "code",
        "colab": {}
      },
      "source": [
        ""
      ],
      "execution_count": 0,
      "outputs": []
    },
    {
      "cell_type": "code",
      "metadata": {
        "id": "bgHgOHY_k2C8",
        "colab_type": "code",
        "colab": {}
      },
      "source": [
        ""
      ],
      "execution_count": 0,
      "outputs": []
    },
    {
      "cell_type": "code",
      "metadata": {
        "id": "pp8qlCBbk1xg",
        "colab_type": "code",
        "colab": {}
      },
      "source": [
        ""
      ],
      "execution_count": 0,
      "outputs": []
    },
    {
      "cell_type": "markdown",
      "metadata": {
        "id": "AtC39LZPl2VZ",
        "colab_type": "text"
      },
      "source": [
        "### Criando um Modelo de Machine Learning"
      ]
    },
    {
      "cell_type": "markdown",
      "metadata": {
        "id": "LW8wIzeWjW2r",
        "colab_type": "text"
      },
      "source": [
        "Você já treinou uma Random Forest? Se você é como eu e gosta de se aprofundar nos algoritimos de Machine Learning, provavelmente a resposta é sim.\n",
        "\n",
        "Se não, aqui vai uma rápida explicação do que se trata esse algoritimo.\n",
        "\n",
        "Em seu livro \"Hands On - Machine Learning with Scikit-Learn e TensorFlow\", Aurélien Géron faz uso do seguinte exemplo para explicar a Random Forest:\n",
        "\n",
        "\"Vamos supor que você faça uma pergunta complexa a milhares de pessoas aleatórias e, então, reúna suas respostas. Em muitos casos, você verá que essa resposta agregada é melhor do que a resposta de um especialista, o que é chamado de *sabedoria de multidão*. Da mesma forma, se você agregar as previsões de um conjunto de previsões (como classificadores ou regressores), muitas vezes obterá melhores previsões do que com o melhor previsor individual. Um conjunto de previsores é chamado de *ensemble*; assim, esta técnica é chamada *Ensemble Learning*, e um algoritimo de *Ensemble Learning* é chamado de *Ensemble Method*.\"\n",
        "\n",
        "E é exatamente disso que se trata uma Random Forest. Esse algoritimo é composto por inúmeras Árvores de Decisão Aleatórias, cujos resultados são utilizados para obter um resultado final.\n",
        "\n",
        "Neste artigo, quero demonstrar o uso da Random Forest em conjunto com o GridSearchCV, a partir dos dados tratados em meu ultimo artigo (se você não leu,  confere lá.....)"
      ]
    },
    {
      "cell_type": "markdown",
      "metadata": {
        "id": "IWgps4oFoe6F",
        "colab_type": "text"
      },
      "source": [
        "Vou começar importando algumas bibliotecas que irei utilizar...."
      ]
    },
    {
      "cell_type": "code",
      "metadata": {
        "id": "kk_EMmidlvIg",
        "colab_type": "code",
        "colab": {}
      },
      "source": [
        "from sklearn.ensemble import RandomForestRegressor\n",
        "from pprint import pprint \n",
        "from sklearn.model_selection import train_test_split, GridSearchCV\n",
        "from sklearn.metrics import r2_score, mean_squared_error, mean_squared_log_error\n",
        "from sklearn.model_selection import cross_val_score\n",
        "import matplotlib.pyplot as plt\n",
        "import seaborn as sns"
      ],
      "execution_count": 0,
      "outputs": []
    },
    {
      "cell_type": "markdown",
      "metadata": {
        "id": "x0_Nhvrfoo1A",
        "colab_type": "text"
      },
      "source": [
        "Vamos verificar novamente os nossos dados de treinamento..."
      ]
    },
    {
      "cell_type": "code",
      "metadata": {
        "id": "v68aiXV6sBMM",
        "colab_type": "code",
        "outputId": "6d980caf-312f-4dc7-dd4b-0e17dcdbddf0",
        "colab": {
          "base_uri": "https://localhost:8080/",
          "height": 338
        }
      },
      "source": [
        "train.head()"
      ],
      "execution_count": 0,
      "outputs": [
        {
          "output_type": "execute_result",
          "data": {
            "text/html": [
              "<div>\n",
              "<style scoped>\n",
              "    .dataframe tbody tr th:only-of-type {\n",
              "        vertical-align: middle;\n",
              "    }\n",
              "\n",
              "    .dataframe tbody tr th {\n",
              "        vertical-align: top;\n",
              "    }\n",
              "\n",
              "    .dataframe thead th {\n",
              "        text-align: right;\n",
              "    }\n",
              "</style>\n",
              "<table border=\"1\" class=\"dataframe\">\n",
              "  <thead>\n",
              "    <tr style=\"text-align: right;\">\n",
              "      <th></th>\n",
              "      <th>Id</th>\n",
              "      <th>MSSubClass</th>\n",
              "      <th>MSZoning</th>\n",
              "      <th>LotFrontage</th>\n",
              "      <th>LotArea</th>\n",
              "      <th>Street</th>\n",
              "      <th>Alley</th>\n",
              "      <th>LotShape</th>\n",
              "      <th>LandContour</th>\n",
              "      <th>Utilities</th>\n",
              "      <th>LotConfig</th>\n",
              "      <th>LandSlope</th>\n",
              "      <th>Neighborhood</th>\n",
              "      <th>Condition1</th>\n",
              "      <th>Condition2</th>\n",
              "      <th>BldgType</th>\n",
              "      <th>HouseStyle</th>\n",
              "      <th>OverallQual</th>\n",
              "      <th>OverallCond</th>\n",
              "      <th>YearBuilt</th>\n",
              "      <th>YearRemodAdd</th>\n",
              "      <th>RoofStyle</th>\n",
              "      <th>RoofMatl</th>\n",
              "      <th>Exterior1st</th>\n",
              "      <th>Exterior2nd</th>\n",
              "      <th>MasVnrType</th>\n",
              "      <th>MasVnrArea</th>\n",
              "      <th>ExterQual</th>\n",
              "      <th>ExterCond</th>\n",
              "      <th>Foundation</th>\n",
              "      <th>BsmtQual</th>\n",
              "      <th>BsmtCond</th>\n",
              "      <th>BsmtExposure</th>\n",
              "      <th>BsmtFinType1</th>\n",
              "      <th>BsmtFinSF1</th>\n",
              "      <th>BsmtFinType2</th>\n",
              "      <th>BsmtFinSF2</th>\n",
              "      <th>BsmtUnfSF</th>\n",
              "      <th>TotalBsmtSF</th>\n",
              "      <th>Heating</th>\n",
              "      <th>...</th>\n",
              "      <th>CentralAir</th>\n",
              "      <th>Electrical</th>\n",
              "      <th>1stFlrSF</th>\n",
              "      <th>2ndFlrSF</th>\n",
              "      <th>LowQualFinSF</th>\n",
              "      <th>GrLivArea</th>\n",
              "      <th>BsmtFullBath</th>\n",
              "      <th>BsmtHalfBath</th>\n",
              "      <th>FullBath</th>\n",
              "      <th>HalfBath</th>\n",
              "      <th>BedroomAbvGr</th>\n",
              "      <th>KitchenAbvGr</th>\n",
              "      <th>KitchenQual</th>\n",
              "      <th>TotRmsAbvGrd</th>\n",
              "      <th>Functional</th>\n",
              "      <th>Fireplaces</th>\n",
              "      <th>FireplaceQu</th>\n",
              "      <th>GarageType</th>\n",
              "      <th>GarageYrBlt</th>\n",
              "      <th>GarageFinish</th>\n",
              "      <th>GarageCars</th>\n",
              "      <th>GarageArea</th>\n",
              "      <th>GarageQual</th>\n",
              "      <th>GarageCond</th>\n",
              "      <th>PavedDrive</th>\n",
              "      <th>WoodDeckSF</th>\n",
              "      <th>OpenPorchSF</th>\n",
              "      <th>EnclosedPorch</th>\n",
              "      <th>3SsnPorch</th>\n",
              "      <th>ScreenPorch</th>\n",
              "      <th>PoolArea</th>\n",
              "      <th>PoolQC</th>\n",
              "      <th>Fence</th>\n",
              "      <th>MiscFeature</th>\n",
              "      <th>MiscVal</th>\n",
              "      <th>MoSold</th>\n",
              "      <th>YrSold</th>\n",
              "      <th>SaleType</th>\n",
              "      <th>SaleCondition</th>\n",
              "      <th>SalePrice</th>\n",
              "    </tr>\n",
              "  </thead>\n",
              "  <tbody>\n",
              "    <tr>\n",
              "      <th>0</th>\n",
              "      <td>1</td>\n",
              "      <td>60</td>\n",
              "      <td>RL</td>\n",
              "      <td>65.0</td>\n",
              "      <td>8450</td>\n",
              "      <td>Pave</td>\n",
              "      <td>NA</td>\n",
              "      <td>Reg</td>\n",
              "      <td>Lvl</td>\n",
              "      <td>AllPub</td>\n",
              "      <td>Inside</td>\n",
              "      <td>Gtl</td>\n",
              "      <td>CollgCr</td>\n",
              "      <td>Norm</td>\n",
              "      <td>Norm</td>\n",
              "      <td>1Fam</td>\n",
              "      <td>2Story</td>\n",
              "      <td>7</td>\n",
              "      <td>5</td>\n",
              "      <td>2003-01-01</td>\n",
              "      <td>2003-01-01</td>\n",
              "      <td>Gable</td>\n",
              "      <td>CompShg</td>\n",
              "      <td>VinylSd</td>\n",
              "      <td>VinylSd</td>\n",
              "      <td>BrkFace</td>\n",
              "      <td>196.0</td>\n",
              "      <td>Gd</td>\n",
              "      <td>TA</td>\n",
              "      <td>PConc</td>\n",
              "      <td>Gd</td>\n",
              "      <td>TA</td>\n",
              "      <td>No</td>\n",
              "      <td>GLQ</td>\n",
              "      <td>706</td>\n",
              "      <td>Unf</td>\n",
              "      <td>0</td>\n",
              "      <td>150</td>\n",
              "      <td>856</td>\n",
              "      <td>GasA</td>\n",
              "      <td>...</td>\n",
              "      <td>Y</td>\n",
              "      <td>SBrkr</td>\n",
              "      <td>856</td>\n",
              "      <td>854</td>\n",
              "      <td>0</td>\n",
              "      <td>1710</td>\n",
              "      <td>1</td>\n",
              "      <td>0</td>\n",
              "      <td>2</td>\n",
              "      <td>1</td>\n",
              "      <td>3</td>\n",
              "      <td>1</td>\n",
              "      <td>Gd</td>\n",
              "      <td>8</td>\n",
              "      <td>Typ</td>\n",
              "      <td>0</td>\n",
              "      <td>NA</td>\n",
              "      <td>Attchd</td>\n",
              "      <td>2003-01-01</td>\n",
              "      <td>RFn</td>\n",
              "      <td>2</td>\n",
              "      <td>548</td>\n",
              "      <td>TA</td>\n",
              "      <td>TA</td>\n",
              "      <td>Y</td>\n",
              "      <td>0</td>\n",
              "      <td>61</td>\n",
              "      <td>0</td>\n",
              "      <td>0</td>\n",
              "      <td>0</td>\n",
              "      <td>0</td>\n",
              "      <td>NA</td>\n",
              "      <td>NA</td>\n",
              "      <td>NA</td>\n",
              "      <td>0</td>\n",
              "      <td>2</td>\n",
              "      <td>2008-01-01</td>\n",
              "      <td>WD</td>\n",
              "      <td>Normal</td>\n",
              "      <td>208500</td>\n",
              "    </tr>\n",
              "    <tr>\n",
              "      <th>1</th>\n",
              "      <td>2</td>\n",
              "      <td>20</td>\n",
              "      <td>RL</td>\n",
              "      <td>80.0</td>\n",
              "      <td>9600</td>\n",
              "      <td>Pave</td>\n",
              "      <td>NA</td>\n",
              "      <td>Reg</td>\n",
              "      <td>Lvl</td>\n",
              "      <td>AllPub</td>\n",
              "      <td>FR2</td>\n",
              "      <td>Gtl</td>\n",
              "      <td>Veenker</td>\n",
              "      <td>Feedr</td>\n",
              "      <td>Norm</td>\n",
              "      <td>1Fam</td>\n",
              "      <td>1Story</td>\n",
              "      <td>6</td>\n",
              "      <td>8</td>\n",
              "      <td>1976-01-01</td>\n",
              "      <td>1976-01-01</td>\n",
              "      <td>Gable</td>\n",
              "      <td>CompShg</td>\n",
              "      <td>MetalSd</td>\n",
              "      <td>MetalSd</td>\n",
              "      <td>None</td>\n",
              "      <td>0.0</td>\n",
              "      <td>TA</td>\n",
              "      <td>TA</td>\n",
              "      <td>CBlock</td>\n",
              "      <td>Gd</td>\n",
              "      <td>TA</td>\n",
              "      <td>Gd</td>\n",
              "      <td>ALQ</td>\n",
              "      <td>978</td>\n",
              "      <td>Unf</td>\n",
              "      <td>0</td>\n",
              "      <td>284</td>\n",
              "      <td>1262</td>\n",
              "      <td>GasA</td>\n",
              "      <td>...</td>\n",
              "      <td>Y</td>\n",
              "      <td>SBrkr</td>\n",
              "      <td>1262</td>\n",
              "      <td>0</td>\n",
              "      <td>0</td>\n",
              "      <td>1262</td>\n",
              "      <td>0</td>\n",
              "      <td>1</td>\n",
              "      <td>2</td>\n",
              "      <td>0</td>\n",
              "      <td>3</td>\n",
              "      <td>1</td>\n",
              "      <td>TA</td>\n",
              "      <td>6</td>\n",
              "      <td>Typ</td>\n",
              "      <td>1</td>\n",
              "      <td>TA</td>\n",
              "      <td>Attchd</td>\n",
              "      <td>1976-01-01</td>\n",
              "      <td>RFn</td>\n",
              "      <td>2</td>\n",
              "      <td>460</td>\n",
              "      <td>TA</td>\n",
              "      <td>TA</td>\n",
              "      <td>Y</td>\n",
              "      <td>298</td>\n",
              "      <td>0</td>\n",
              "      <td>0</td>\n",
              "      <td>0</td>\n",
              "      <td>0</td>\n",
              "      <td>0</td>\n",
              "      <td>NA</td>\n",
              "      <td>NA</td>\n",
              "      <td>NA</td>\n",
              "      <td>0</td>\n",
              "      <td>5</td>\n",
              "      <td>2007-01-01</td>\n",
              "      <td>WD</td>\n",
              "      <td>Normal</td>\n",
              "      <td>181500</td>\n",
              "    </tr>\n",
              "    <tr>\n",
              "      <th>2</th>\n",
              "      <td>3</td>\n",
              "      <td>60</td>\n",
              "      <td>RL</td>\n",
              "      <td>68.0</td>\n",
              "      <td>11250</td>\n",
              "      <td>Pave</td>\n",
              "      <td>NA</td>\n",
              "      <td>IR1</td>\n",
              "      <td>Lvl</td>\n",
              "      <td>AllPub</td>\n",
              "      <td>Inside</td>\n",
              "      <td>Gtl</td>\n",
              "      <td>CollgCr</td>\n",
              "      <td>Norm</td>\n",
              "      <td>Norm</td>\n",
              "      <td>1Fam</td>\n",
              "      <td>2Story</td>\n",
              "      <td>7</td>\n",
              "      <td>5</td>\n",
              "      <td>2001-01-01</td>\n",
              "      <td>2002-01-01</td>\n",
              "      <td>Gable</td>\n",
              "      <td>CompShg</td>\n",
              "      <td>VinylSd</td>\n",
              "      <td>VinylSd</td>\n",
              "      <td>BrkFace</td>\n",
              "      <td>162.0</td>\n",
              "      <td>Gd</td>\n",
              "      <td>TA</td>\n",
              "      <td>PConc</td>\n",
              "      <td>Gd</td>\n",
              "      <td>TA</td>\n",
              "      <td>Mn</td>\n",
              "      <td>GLQ</td>\n",
              "      <td>486</td>\n",
              "      <td>Unf</td>\n",
              "      <td>0</td>\n",
              "      <td>434</td>\n",
              "      <td>920</td>\n",
              "      <td>GasA</td>\n",
              "      <td>...</td>\n",
              "      <td>Y</td>\n",
              "      <td>SBrkr</td>\n",
              "      <td>920</td>\n",
              "      <td>866</td>\n",
              "      <td>0</td>\n",
              "      <td>1786</td>\n",
              "      <td>1</td>\n",
              "      <td>0</td>\n",
              "      <td>2</td>\n",
              "      <td>1</td>\n",
              "      <td>3</td>\n",
              "      <td>1</td>\n",
              "      <td>Gd</td>\n",
              "      <td>6</td>\n",
              "      <td>Typ</td>\n",
              "      <td>1</td>\n",
              "      <td>TA</td>\n",
              "      <td>Attchd</td>\n",
              "      <td>2001-01-01</td>\n",
              "      <td>RFn</td>\n",
              "      <td>2</td>\n",
              "      <td>608</td>\n",
              "      <td>TA</td>\n",
              "      <td>TA</td>\n",
              "      <td>Y</td>\n",
              "      <td>0</td>\n",
              "      <td>42</td>\n",
              "      <td>0</td>\n",
              "      <td>0</td>\n",
              "      <td>0</td>\n",
              "      <td>0</td>\n",
              "      <td>NA</td>\n",
              "      <td>NA</td>\n",
              "      <td>NA</td>\n",
              "      <td>0</td>\n",
              "      <td>9</td>\n",
              "      <td>2008-01-01</td>\n",
              "      <td>WD</td>\n",
              "      <td>Normal</td>\n",
              "      <td>223500</td>\n",
              "    </tr>\n",
              "    <tr>\n",
              "      <th>3</th>\n",
              "      <td>4</td>\n",
              "      <td>70</td>\n",
              "      <td>RL</td>\n",
              "      <td>60.0</td>\n",
              "      <td>9550</td>\n",
              "      <td>Pave</td>\n",
              "      <td>NA</td>\n",
              "      <td>IR1</td>\n",
              "      <td>Lvl</td>\n",
              "      <td>AllPub</td>\n",
              "      <td>Corner</td>\n",
              "      <td>Gtl</td>\n",
              "      <td>Crawfor</td>\n",
              "      <td>Norm</td>\n",
              "      <td>Norm</td>\n",
              "      <td>1Fam</td>\n",
              "      <td>2Story</td>\n",
              "      <td>7</td>\n",
              "      <td>5</td>\n",
              "      <td>1915-01-01</td>\n",
              "      <td>1970-01-01</td>\n",
              "      <td>Gable</td>\n",
              "      <td>CompShg</td>\n",
              "      <td>Wd Sdng</td>\n",
              "      <td>Wd Shng</td>\n",
              "      <td>None</td>\n",
              "      <td>0.0</td>\n",
              "      <td>TA</td>\n",
              "      <td>TA</td>\n",
              "      <td>BrkTil</td>\n",
              "      <td>TA</td>\n",
              "      <td>Gd</td>\n",
              "      <td>No</td>\n",
              "      <td>ALQ</td>\n",
              "      <td>216</td>\n",
              "      <td>Unf</td>\n",
              "      <td>0</td>\n",
              "      <td>540</td>\n",
              "      <td>756</td>\n",
              "      <td>GasA</td>\n",
              "      <td>...</td>\n",
              "      <td>Y</td>\n",
              "      <td>SBrkr</td>\n",
              "      <td>961</td>\n",
              "      <td>756</td>\n",
              "      <td>0</td>\n",
              "      <td>1717</td>\n",
              "      <td>1</td>\n",
              "      <td>0</td>\n",
              "      <td>1</td>\n",
              "      <td>0</td>\n",
              "      <td>3</td>\n",
              "      <td>1</td>\n",
              "      <td>Gd</td>\n",
              "      <td>7</td>\n",
              "      <td>Typ</td>\n",
              "      <td>1</td>\n",
              "      <td>Gd</td>\n",
              "      <td>Detchd</td>\n",
              "      <td>1998-01-01</td>\n",
              "      <td>Unf</td>\n",
              "      <td>3</td>\n",
              "      <td>642</td>\n",
              "      <td>TA</td>\n",
              "      <td>TA</td>\n",
              "      <td>Y</td>\n",
              "      <td>0</td>\n",
              "      <td>35</td>\n",
              "      <td>272</td>\n",
              "      <td>0</td>\n",
              "      <td>0</td>\n",
              "      <td>0</td>\n",
              "      <td>NA</td>\n",
              "      <td>NA</td>\n",
              "      <td>NA</td>\n",
              "      <td>0</td>\n",
              "      <td>2</td>\n",
              "      <td>2006-01-01</td>\n",
              "      <td>WD</td>\n",
              "      <td>Abnorml</td>\n",
              "      <td>140000</td>\n",
              "    </tr>\n",
              "    <tr>\n",
              "      <th>4</th>\n",
              "      <td>5</td>\n",
              "      <td>60</td>\n",
              "      <td>RL</td>\n",
              "      <td>84.0</td>\n",
              "      <td>14260</td>\n",
              "      <td>Pave</td>\n",
              "      <td>NA</td>\n",
              "      <td>IR1</td>\n",
              "      <td>Lvl</td>\n",
              "      <td>AllPub</td>\n",
              "      <td>FR2</td>\n",
              "      <td>Gtl</td>\n",
              "      <td>NoRidge</td>\n",
              "      <td>Norm</td>\n",
              "      <td>Norm</td>\n",
              "      <td>1Fam</td>\n",
              "      <td>2Story</td>\n",
              "      <td>8</td>\n",
              "      <td>5</td>\n",
              "      <td>2000-01-01</td>\n",
              "      <td>2000-01-01</td>\n",
              "      <td>Gable</td>\n",
              "      <td>CompShg</td>\n",
              "      <td>VinylSd</td>\n",
              "      <td>VinylSd</td>\n",
              "      <td>BrkFace</td>\n",
              "      <td>350.0</td>\n",
              "      <td>Gd</td>\n",
              "      <td>TA</td>\n",
              "      <td>PConc</td>\n",
              "      <td>Gd</td>\n",
              "      <td>TA</td>\n",
              "      <td>Av</td>\n",
              "      <td>GLQ</td>\n",
              "      <td>655</td>\n",
              "      <td>Unf</td>\n",
              "      <td>0</td>\n",
              "      <td>490</td>\n",
              "      <td>1145</td>\n",
              "      <td>GasA</td>\n",
              "      <td>...</td>\n",
              "      <td>Y</td>\n",
              "      <td>SBrkr</td>\n",
              "      <td>1145</td>\n",
              "      <td>1053</td>\n",
              "      <td>0</td>\n",
              "      <td>2198</td>\n",
              "      <td>1</td>\n",
              "      <td>0</td>\n",
              "      <td>2</td>\n",
              "      <td>1</td>\n",
              "      <td>4</td>\n",
              "      <td>1</td>\n",
              "      <td>Gd</td>\n",
              "      <td>9</td>\n",
              "      <td>Typ</td>\n",
              "      <td>1</td>\n",
              "      <td>TA</td>\n",
              "      <td>Attchd</td>\n",
              "      <td>2000-01-01</td>\n",
              "      <td>RFn</td>\n",
              "      <td>3</td>\n",
              "      <td>836</td>\n",
              "      <td>TA</td>\n",
              "      <td>TA</td>\n",
              "      <td>Y</td>\n",
              "      <td>192</td>\n",
              "      <td>84</td>\n",
              "      <td>0</td>\n",
              "      <td>0</td>\n",
              "      <td>0</td>\n",
              "      <td>0</td>\n",
              "      <td>NA</td>\n",
              "      <td>NA</td>\n",
              "      <td>NA</td>\n",
              "      <td>0</td>\n",
              "      <td>12</td>\n",
              "      <td>2008-01-01</td>\n",
              "      <td>WD</td>\n",
              "      <td>Normal</td>\n",
              "      <td>250000</td>\n",
              "    </tr>\n",
              "  </tbody>\n",
              "</table>\n",
              "<p>5 rows × 81 columns</p>\n",
              "</div>"
            ],
            "text/plain": [
              "   Id  MSSubClass MSZoning  ...  SaleType  SaleCondition SalePrice\n",
              "0   1          60       RL  ...        WD         Normal    208500\n",
              "1   2          20       RL  ...        WD         Normal    181500\n",
              "2   3          60       RL  ...        WD         Normal    223500\n",
              "3   4          70       RL  ...        WD        Abnorml    140000\n",
              "4   5          60       RL  ...        WD         Normal    250000\n",
              "\n",
              "[5 rows x 81 columns]"
            ]
          },
          "metadata": {
            "tags": []
          },
          "execution_count": 14
        }
      ]
    },
    {
      "cell_type": "markdown",
      "metadata": {
        "id": "cWAWEaHzo6E1",
        "colab_type": "text"
      },
      "source": [
        "No artigo 'tratamento de missing values' eu explorei de forma detalhada os dados neste DataSet, portanto, não o farei novamente aqui.\n",
        "\n",
        "O importante a saber é que este DataSet contém informações referentes à imóveis e seus valores de venda."
      ]
    },
    {
      "cell_type": "markdown",
      "metadata": {
        "id": "gXE_VK8VsE2r",
        "colab_type": "text"
      },
      "source": [
        "Mas antes de começar a trabalhar com ML, há mais uma feature importante que podemos criar.\n",
        "\n",
        "Uma informação que influencia muito no valor de uma casa é sua área construida.\n",
        "\n",
        "Podemos criar uma coluna somando a àrea do porão, primeiro piso e segundo piso, obtendo assim a metragem total da casa."
      ]
    },
    {
      "cell_type": "code",
      "metadata": {
        "id": "HpltZzCSs_b7",
        "colab_type": "code",
        "colab": {}
      },
      "source": [
        "train['AreaTotalConst'] = train['TotalBsmtSF'] + train['1stFlrSF'] + train['2ndFlrSF']"
      ],
      "execution_count": 0,
      "outputs": []
    },
    {
      "cell_type": "markdown",
      "metadata": {
        "id": "HHZxV17kqvSE",
        "colab_type": "text"
      },
      "source": [
        "A fim de reduzir a quantidade da features utilzadas no treinamento do modelo, vamos utilzar o método \".corr()\", que vai nos retornar o valor da correlação entre as colunas numéricas, as quais vamos utilizar como variáveis para o modelo."
      ]
    },
    {
      "cell_type": "code",
      "metadata": {
        "id": "y6MQgG6Jpv37",
        "colab_type": "code",
        "outputId": "4d4eb99d-d5b1-4b6d-8f93-9df6f58eb668",
        "colab": {
          "base_uri": "https://localhost:8080/",
          "height": 629
        }
      },
      "source": [
        "correlation = train.corr()\n",
        "correlation = correlation['SalePrice'].sort_values(ascending=False)\n",
        "correlation"
      ],
      "execution_count": 0,
      "outputs": [
        {
          "output_type": "execute_result",
          "data": {
            "text/plain": [
              "SalePrice         1.000000\n",
              "OverallQual       0.790982\n",
              "AreaTotalConst    0.782260\n",
              "GrLivArea         0.708624\n",
              "GarageCars        0.640409\n",
              "GarageArea        0.623431\n",
              "TotalBsmtSF       0.613581\n",
              "1stFlrSF          0.605852\n",
              "FullBath          0.560664\n",
              "TotRmsAbvGrd      0.533723\n",
              "MasVnrArea        0.472614\n",
              "Fireplaces        0.466929\n",
              "BsmtFinSF1        0.386420\n",
              "LotFrontage       0.334901\n",
              "WoodDeckSF        0.324413\n",
              "2ndFlrSF          0.319334\n",
              "OpenPorchSF       0.315856\n",
              "HalfBath          0.284108\n",
              "LotArea           0.263843\n",
              "BsmtFullBath      0.227122\n",
              "BsmtUnfSF         0.214479\n",
              "BedroomAbvGr      0.168213\n",
              "ScreenPorch       0.111447\n",
              "PoolArea          0.092404\n",
              "MoSold            0.046432\n",
              "3SsnPorch         0.044584\n",
              "BsmtFinSF2       -0.011378\n",
              "BsmtHalfBath     -0.016844\n",
              "MiscVal          -0.021190\n",
              "Id               -0.021917\n",
              "LowQualFinSF     -0.025606\n",
              "OverallCond      -0.077856\n",
              "MSSubClass       -0.084284\n",
              "EnclosedPorch    -0.128578\n",
              "KitchenAbvGr     -0.135907\n",
              "Name: SalePrice, dtype: float64"
            ]
          },
          "metadata": {
            "tags": []
          },
          "execution_count": 16
        }
      ]
    },
    {
      "cell_type": "markdown",
      "metadata": {
        "id": "6wldJU6trfpl",
        "colab_type": "text"
      },
      "source": [
        "passando o método \"len()\" com a variável \"correlation\" obtemos a quantidade exata de colunas selecionadas."
      ]
    },
    {
      "cell_type": "code",
      "metadata": {
        "id": "Vg_bwfSKvxqo",
        "colab_type": "code",
        "outputId": "aaab0899-eb81-44b8-8631-16db4df5642e",
        "colab": {
          "base_uri": "https://localhost:8080/",
          "height": 34
        }
      },
      "source": [
        "len(correlation)"
      ],
      "execution_count": 0,
      "outputs": [
        {
          "output_type": "execute_result",
          "data": {
            "text/plain": [
              "35"
            ]
          },
          "metadata": {
            "tags": []
          },
          "execution_count": 17
        }
      ]
    },
    {
      "cell_type": "markdown",
      "metadata": {
        "id": "4P62Wbdjq3Xn",
        "colab_type": "text"
      },
      "source": [
        "Agora vamos atribuir apenas o nome das colunas à varivel \"variaveis\", utilizando o método \"index\" e excluindo nossa coluna alvo."
      ]
    },
    {
      "cell_type": "code",
      "metadata": {
        "id": "DyheVvKSrKR6",
        "colab_type": "code",
        "outputId": "f6351125-4748-427b-c6e7-d12c8cd31e08",
        "colab": {
          "base_uri": "https://localhost:8080/",
          "height": 224
        }
      },
      "source": [
        "variaveis = correlation.index[1:]\n",
        "train[variaveis].head()"
      ],
      "execution_count": 0,
      "outputs": [
        {
          "output_type": "execute_result",
          "data": {
            "text/html": [
              "<div>\n",
              "<style scoped>\n",
              "    .dataframe tbody tr th:only-of-type {\n",
              "        vertical-align: middle;\n",
              "    }\n",
              "\n",
              "    .dataframe tbody tr th {\n",
              "        vertical-align: top;\n",
              "    }\n",
              "\n",
              "    .dataframe thead th {\n",
              "        text-align: right;\n",
              "    }\n",
              "</style>\n",
              "<table border=\"1\" class=\"dataframe\">\n",
              "  <thead>\n",
              "    <tr style=\"text-align: right;\">\n",
              "      <th></th>\n",
              "      <th>OverallQual</th>\n",
              "      <th>AreaTotalConst</th>\n",
              "      <th>GrLivArea</th>\n",
              "      <th>GarageCars</th>\n",
              "      <th>GarageArea</th>\n",
              "      <th>TotalBsmtSF</th>\n",
              "      <th>1stFlrSF</th>\n",
              "      <th>FullBath</th>\n",
              "      <th>TotRmsAbvGrd</th>\n",
              "      <th>MasVnrArea</th>\n",
              "      <th>Fireplaces</th>\n",
              "      <th>BsmtFinSF1</th>\n",
              "      <th>LotFrontage</th>\n",
              "      <th>WoodDeckSF</th>\n",
              "      <th>2ndFlrSF</th>\n",
              "      <th>OpenPorchSF</th>\n",
              "      <th>HalfBath</th>\n",
              "      <th>LotArea</th>\n",
              "      <th>BsmtFullBath</th>\n",
              "      <th>BsmtUnfSF</th>\n",
              "      <th>BedroomAbvGr</th>\n",
              "      <th>ScreenPorch</th>\n",
              "      <th>PoolArea</th>\n",
              "      <th>MoSold</th>\n",
              "      <th>3SsnPorch</th>\n",
              "      <th>BsmtFinSF2</th>\n",
              "      <th>BsmtHalfBath</th>\n",
              "      <th>MiscVal</th>\n",
              "      <th>Id</th>\n",
              "      <th>LowQualFinSF</th>\n",
              "      <th>OverallCond</th>\n",
              "      <th>MSSubClass</th>\n",
              "      <th>EnclosedPorch</th>\n",
              "      <th>KitchenAbvGr</th>\n",
              "    </tr>\n",
              "  </thead>\n",
              "  <tbody>\n",
              "    <tr>\n",
              "      <th>0</th>\n",
              "      <td>7</td>\n",
              "      <td>2566</td>\n",
              "      <td>1710</td>\n",
              "      <td>2</td>\n",
              "      <td>548</td>\n",
              "      <td>856</td>\n",
              "      <td>856</td>\n",
              "      <td>2</td>\n",
              "      <td>8</td>\n",
              "      <td>196.0</td>\n",
              "      <td>0</td>\n",
              "      <td>706</td>\n",
              "      <td>65.0</td>\n",
              "      <td>0</td>\n",
              "      <td>854</td>\n",
              "      <td>61</td>\n",
              "      <td>1</td>\n",
              "      <td>8450</td>\n",
              "      <td>1</td>\n",
              "      <td>150</td>\n",
              "      <td>3</td>\n",
              "      <td>0</td>\n",
              "      <td>0</td>\n",
              "      <td>2</td>\n",
              "      <td>0</td>\n",
              "      <td>0</td>\n",
              "      <td>0</td>\n",
              "      <td>0</td>\n",
              "      <td>1</td>\n",
              "      <td>0</td>\n",
              "      <td>5</td>\n",
              "      <td>60</td>\n",
              "      <td>0</td>\n",
              "      <td>1</td>\n",
              "    </tr>\n",
              "    <tr>\n",
              "      <th>1</th>\n",
              "      <td>6</td>\n",
              "      <td>2524</td>\n",
              "      <td>1262</td>\n",
              "      <td>2</td>\n",
              "      <td>460</td>\n",
              "      <td>1262</td>\n",
              "      <td>1262</td>\n",
              "      <td>2</td>\n",
              "      <td>6</td>\n",
              "      <td>0.0</td>\n",
              "      <td>1</td>\n",
              "      <td>978</td>\n",
              "      <td>80.0</td>\n",
              "      <td>298</td>\n",
              "      <td>0</td>\n",
              "      <td>0</td>\n",
              "      <td>0</td>\n",
              "      <td>9600</td>\n",
              "      <td>0</td>\n",
              "      <td>284</td>\n",
              "      <td>3</td>\n",
              "      <td>0</td>\n",
              "      <td>0</td>\n",
              "      <td>5</td>\n",
              "      <td>0</td>\n",
              "      <td>0</td>\n",
              "      <td>1</td>\n",
              "      <td>0</td>\n",
              "      <td>2</td>\n",
              "      <td>0</td>\n",
              "      <td>8</td>\n",
              "      <td>20</td>\n",
              "      <td>0</td>\n",
              "      <td>1</td>\n",
              "    </tr>\n",
              "    <tr>\n",
              "      <th>2</th>\n",
              "      <td>7</td>\n",
              "      <td>2706</td>\n",
              "      <td>1786</td>\n",
              "      <td>2</td>\n",
              "      <td>608</td>\n",
              "      <td>920</td>\n",
              "      <td>920</td>\n",
              "      <td>2</td>\n",
              "      <td>6</td>\n",
              "      <td>162.0</td>\n",
              "      <td>1</td>\n",
              "      <td>486</td>\n",
              "      <td>68.0</td>\n",
              "      <td>0</td>\n",
              "      <td>866</td>\n",
              "      <td>42</td>\n",
              "      <td>1</td>\n",
              "      <td>11250</td>\n",
              "      <td>1</td>\n",
              "      <td>434</td>\n",
              "      <td>3</td>\n",
              "      <td>0</td>\n",
              "      <td>0</td>\n",
              "      <td>9</td>\n",
              "      <td>0</td>\n",
              "      <td>0</td>\n",
              "      <td>0</td>\n",
              "      <td>0</td>\n",
              "      <td>3</td>\n",
              "      <td>0</td>\n",
              "      <td>5</td>\n",
              "      <td>60</td>\n",
              "      <td>0</td>\n",
              "      <td>1</td>\n",
              "    </tr>\n",
              "    <tr>\n",
              "      <th>3</th>\n",
              "      <td>7</td>\n",
              "      <td>2473</td>\n",
              "      <td>1717</td>\n",
              "      <td>3</td>\n",
              "      <td>642</td>\n",
              "      <td>756</td>\n",
              "      <td>961</td>\n",
              "      <td>1</td>\n",
              "      <td>7</td>\n",
              "      <td>0.0</td>\n",
              "      <td>1</td>\n",
              "      <td>216</td>\n",
              "      <td>60.0</td>\n",
              "      <td>0</td>\n",
              "      <td>756</td>\n",
              "      <td>35</td>\n",
              "      <td>0</td>\n",
              "      <td>9550</td>\n",
              "      <td>1</td>\n",
              "      <td>540</td>\n",
              "      <td>3</td>\n",
              "      <td>0</td>\n",
              "      <td>0</td>\n",
              "      <td>2</td>\n",
              "      <td>0</td>\n",
              "      <td>0</td>\n",
              "      <td>0</td>\n",
              "      <td>0</td>\n",
              "      <td>4</td>\n",
              "      <td>0</td>\n",
              "      <td>5</td>\n",
              "      <td>70</td>\n",
              "      <td>272</td>\n",
              "      <td>1</td>\n",
              "    </tr>\n",
              "    <tr>\n",
              "      <th>4</th>\n",
              "      <td>8</td>\n",
              "      <td>3343</td>\n",
              "      <td>2198</td>\n",
              "      <td>3</td>\n",
              "      <td>836</td>\n",
              "      <td>1145</td>\n",
              "      <td>1145</td>\n",
              "      <td>2</td>\n",
              "      <td>9</td>\n",
              "      <td>350.0</td>\n",
              "      <td>1</td>\n",
              "      <td>655</td>\n",
              "      <td>84.0</td>\n",
              "      <td>192</td>\n",
              "      <td>1053</td>\n",
              "      <td>84</td>\n",
              "      <td>1</td>\n",
              "      <td>14260</td>\n",
              "      <td>1</td>\n",
              "      <td>490</td>\n",
              "      <td>4</td>\n",
              "      <td>0</td>\n",
              "      <td>0</td>\n",
              "      <td>12</td>\n",
              "      <td>0</td>\n",
              "      <td>0</td>\n",
              "      <td>0</td>\n",
              "      <td>0</td>\n",
              "      <td>5</td>\n",
              "      <td>0</td>\n",
              "      <td>5</td>\n",
              "      <td>60</td>\n",
              "      <td>0</td>\n",
              "      <td>1</td>\n",
              "    </tr>\n",
              "  </tbody>\n",
              "</table>\n",
              "</div>"
            ],
            "text/plain": [
              "   OverallQual  AreaTotalConst  ...  EnclosedPorch  KitchenAbvGr\n",
              "0            7            2566  ...              0             1\n",
              "1            6            2524  ...              0             1\n",
              "2            7            2706  ...              0             1\n",
              "3            7            2473  ...            272             1\n",
              "4            8            3343  ...              0             1\n",
              "\n",
              "[5 rows x 34 columns]"
            ]
          },
          "metadata": {
            "tags": []
          },
          "execution_count": 40
        }
      ]
    },
    {
      "cell_type": "markdown",
      "metadata": {
        "id": "3ggU4C61rYYT",
        "colab_type": "text"
      },
      "source": [
        "Agora que selecionamos as feaures para o modelo, vamos fazer um breve ajuste nos dados."
      ]
    },
    {
      "cell_type": "markdown",
      "metadata": {
        "id": "fxPPxM5nvr4Z",
        "colab_type": "text"
      },
      "source": [
        "### Tratando Outliers\n"
      ]
    },
    {
      "cell_type": "markdown",
      "metadata": {
        "id": "3SavvtNbmNKS",
        "colab_type": "text"
      },
      "source": [
        "É prudente verificar a existencia de valores anômalos (outliers) antes de entregar as features ao modelo.\n",
        "\n",
        "Vamos fazer essa verificação com a feature que possuí maior correlação com nossa coluna alvo."
      ]
    },
    {
      "cell_type": "code",
      "metadata": {
        "id": "RwvzdbirvhFT",
        "colab_type": "code",
        "outputId": "55bd06f9-0cae-46b9-b521-63979f813cb9",
        "colab": {
          "base_uri": "https://localhost:8080/",
          "height": 296
        }
      },
      "source": [
        "%matplotlib inline\n",
        "sns.scatterplot(x='AreaTotalConst', y='SalePrice', data=train)"
      ],
      "execution_count": 0,
      "outputs": [
        {
          "output_type": "execute_result",
          "data": {
            "text/plain": [
              "<matplotlib.axes._subplots.AxesSubplot at 0x7f52a7bb2ac8>"
            ]
          },
          "metadata": {
            "tags": []
          },
          "execution_count": 19
        },
        {
          "output_type": "display_data",
          "data": {
            "image/png": "[encoded data removed]",
            "text/plain": [
              "<Figure size 432x288 with 1 Axes>"
            ]
          },
          "metadata": {
            "tags": []
          }
        }
      ]
    },
    {
      "cell_type": "markdown",
      "metadata": {
        "id": "yAaQqXZ1xCkH",
        "colab_type": "text"
      },
      "source": [
        "Podemos ver que há dois valores bem distintos no gráfico. Ambos são de casas que possuem área construida acima de 6.000 ft² e valor de venda abaixo de $300.000.\n",
        "\n",
        "Esses são valores incoerentes com a realidade, e que podem prejudicar o aprendizado do nosso modelo, por isso vamos removê-los."
      ]
    },
    {
      "cell_type": "code",
      "metadata": {
        "id": "Zn50wIEawd7i",
        "colab_type": "code",
        "outputId": "de0c25a8-6fd6-4fd0-9bb6-69aa096f7557",
        "colab": {
          "base_uri": "https://localhost:8080/",
          "height": 296
        }
      },
      "source": [
        "train = train.drop(train[(train['AreaTotalConst'] > 6000) & (train['SalePrice'] < 300000)].index)\n",
        "\n",
        "sns.scatterplot(x='AreaTotalConst', y='SalePrice', data=train)"
      ],
      "execution_count": 0,
      "outputs": [
        {
          "output_type": "execute_result",
          "data": {
            "text/plain": [
              "<matplotlib.axes._subplots.AxesSubplot at 0x7f52a4e3ad30>"
            ]
          },
          "metadata": {
            "tags": []
          },
          "execution_count": 20
        },
        {
          "output_type": "display_data",
          "data": {
            "image/png": "[encoded data removed]",
            "text/plain": [
              "<Figure size 432x288 with 1 Axes>"
            ]
          },
          "metadata": {
            "tags": []
          }
        }
      ]
    },
    {
      "cell_type": "markdown",
      "metadata": {
        "id": "Rj1I6Gc8x0Nq",
        "colab_type": "text"
      },
      "source": [
        "### Analisando a Variável Alvo"
      ]
    },
    {
      "cell_type": "markdown",
      "metadata": {
        "id": "GA7eMeRtpeke",
        "colab_type": "text"
      },
      "source": [
        "A coluna para a qual queremos fazer as previsões é a 'SalePrice', então vamos analisar a  distribuição dos dados dessa coluna."
      ]
    },
    {
      "cell_type": "code",
      "metadata": {
        "id": "dItyp9awprJG",
        "colab_type": "code",
        "outputId": "4eadfaba-cc52-4d97-e0ac-515a7f26f903",
        "colab": {
          "base_uri": "https://localhost:8080/",
          "height": 307
        }
      },
      "source": [
        "%matplotlib inline\n",
        "sns.distplot(train['SalePrice'])"
      ],
      "execution_count": 0,
      "outputs": [
        {
          "output_type": "execute_result",
          "data": {
            "text/plain": [
              "<matplotlib.axes._subplots.AxesSubplot at 0x7f52a4e26da0>"
            ]
          },
          "metadata": {
            "tags": []
          },
          "execution_count": 21
        },
        {
          "output_type": "display_data",
          "data": {
            "image/png": "[encoded data removed]",
            "text/plain": [
              "<Figure size 432x288 with 1 Axes>"
            ]
          },
          "metadata": {
            "tags": []
          }
        }
      ]
    },
    {
      "cell_type": "markdown",
      "metadata": {
        "id": "3l8bcU2fqQTQ",
        "colab_type": "text"
      },
      "source": [
        "No melhor cenário, a o gráfico acima deveria apresenter um formato de distribuição normal ou gaussiana, ou seja, em forma de sino, centralizado. Isso é importante pois os algorítimos tendem a ter um melhor desempenho quando temos dados nessa configuração.\n",
        "\n",
        "Podemos conseguir esse resultado forçando os dados à uma transformação logarítmica."
      ]
    },
    {
      "cell_type": "code",
      "metadata": {
        "id": "5dItt3CNqEZh",
        "colab_type": "code",
        "colab": {}
      },
      "source": [
        "train['SalePriceLog'] = np.log(train['SalePrice'])"
      ],
      "execution_count": 0,
      "outputs": []
    },
    {
      "cell_type": "markdown",
      "metadata": {
        "id": "gXxNdSBdrI5C",
        "colab_type": "text"
      },
      "source": [
        "vamos verificar novamente..."
      ]
    },
    {
      "cell_type": "code",
      "metadata": {
        "id": "uEg42FOsqEPB",
        "colab_type": "code",
        "outputId": "b360ea0a-d29e-417e-e92d-f2a5b6032d38",
        "colab": {
          "base_uri": "https://localhost:8080/",
          "height": 296
        }
      },
      "source": [
        "sns.distplot(train['SalePriceLog'])"
      ],
      "execution_count": 0,
      "outputs": [
        {
          "output_type": "execute_result",
          "data": {
            "text/plain": [
              "<matplotlib.axes._subplots.AxesSubplot at 0x7f52a4cbd198>"
            ]
          },
          "metadata": {
            "tags": []
          },
          "execution_count": 23
        },
        {
          "output_type": "display_data",
          "data": {
            "image/png": "[encoded data removed]",
            "text/plain": [
              "<Figure size 432x288 with 1 Axes>"
            ]
          },
          "metadata": {
            "tags": []
          }
        }
      ]
    },
    {
      "cell_type": "markdown",
      "metadata": {
        "id": "OmX3xrWTrRja",
        "colab_type": "text"
      },
      "source": [
        "Parece bem melhor agora. Podemos dar início à construção do nosso modelo."
      ]
    },
    {
      "cell_type": "code",
      "metadata": {
        "id": "ucYkBX65yGdM",
        "colab_type": "code",
        "colab": {}
      },
      "source": [
        ""
      ],
      "execution_count": 0,
      "outputs": []
    },
    {
      "cell_type": "markdown",
      "metadata": {
        "id": "sZN2CuHBx0wj",
        "colab_type": "text"
      },
      "source": [
        "Separando os dados\n",
        "\n",
        "vamos começar separando os dados"
      ]
    },
    {
      "cell_type": "code",
      "metadata": {
        "id": "KICUy-m4sOpI",
        "colab_type": "code",
        "colab": {}
      },
      "source": [
        "X = train[variaveis]\n",
        "y = train['SalePriceLog']"
      ],
      "execution_count": 0,
      "outputs": []
    },
    {
      "cell_type": "markdown",
      "metadata": {
        "id": "v-egQvpKyAqe",
        "colab_type": "text"
      },
      "source": [
        "A variável X recebe os valores das features, exceto a variável alvo.\n",
        "\n",
        "E a variável y recebe os valores da variável alvo.\n",
        "\n",
        "Agora vamos separar 70% dos dados para treino e 30% para a validação do modelo."
      ]
    },
    {
      "cell_type": "code",
      "metadata": {
        "id": "AW5lC2-mx-Qd",
        "colab_type": "code",
        "colab": {}
      },
      "source": [
        "X_train, X_val, y_train, y_val = train_test_split(X, y, test_size=0.3, random_state=42)"
      ],
      "execution_count": 0,
      "outputs": []
    },
    {
      "cell_type": "code",
      "metadata": {
        "id": "tVmPsIjVyVFz",
        "colab_type": "code",
        "outputId": "f6662349-af59-4983-e990-c5c41b9afd0b",
        "colab": {
          "base_uri": "https://localhost:8080/",
          "height": 34
        }
      },
      "source": [
        "X_train.shape, y_train.shape"
      ],
      "execution_count": 0,
      "outputs": [
        {
          "output_type": "execute_result",
          "data": {
            "text/plain": [
              "((1020, 34), (1020,))"
            ]
          },
          "metadata": {
            "tags": []
          },
          "execution_count": 26
        }
      ]
    },
    {
      "cell_type": "code",
      "metadata": {
        "id": "ZO-cpfa0yaFp",
        "colab_type": "code",
        "outputId": "59aaf4f4-561b-4708-a677-cccf28178889",
        "colab": {
          "base_uri": "https://localhost:8080/",
          "height": 34
        }
      },
      "source": [
        "X_val.shape, y_val.shape"
      ],
      "execution_count": 0,
      "outputs": [
        {
          "output_type": "execute_result",
          "data": {
            "text/plain": [
              "((438, 34), (438,))"
            ]
          },
          "metadata": {
            "tags": []
          },
          "execution_count": 27
        }
      ]
    },
    {
      "cell_type": "markdown",
      "metadata": {
        "id": "SkMSP6sstbu9",
        "colab_type": "text"
      },
      "source": [
        "### Random Forest"
      ]
    },
    {
      "cell_type": "markdown",
      "metadata": {
        "id": "mz7g5Uvov8OF",
        "colab_type": "text"
      },
      "source": [
        "Muito bem, a primeia coisa que vamos fazer é verificar quais são os hiperparâmetros da Random Forest.\n",
        "\n",
        "Para isso, vamos utilzar o método \"get_params()\".\n",
        "\n",
        "E não, eu não escrevi errado. O \"pprint\" é uma função do Python que nos retorna um \"Pretty Print\", ou seja, um Print bonito, bem organizado, que vai nos auxiliar na exibição dos valores dos hiperparâmetros."
      ]
    },
    {
      "cell_type": "code",
      "metadata": {
        "id": "TEyMC2PQtqju",
        "colab_type": "code",
        "outputId": "178b2c81-5bb0-4d2b-e225-441007c32192",
        "colab": {
          "base_uri": "https://localhost:8080/",
          "height": 323
        }
      },
      "source": [
        "rf = RandomForestRegressor()\n",
        "pprint(rf.get_params())"
      ],
      "execution_count": 0,
      "outputs": [
        {
          "output_type": "stream",
          "text": [
            "{'bootstrap': True,\n",
            " 'ccp_alpha': 0.0,\n",
            " 'criterion': 'mse',\n",
            " 'max_depth': None,\n",
            " 'max_features': 'auto',\n",
            " 'max_leaf_nodes': None,\n",
            " 'max_samples': None,\n",
            " 'min_impurity_decrease': 0.0,\n",
            " 'min_impurity_split': None,\n",
            " 'min_samples_leaf': 1,\n",
            " 'min_samples_split': 2,\n",
            " 'min_weight_fraction_leaf': 0.0,\n",
            " 'n_estimators': 100,\n",
            " 'n_jobs': None,\n",
            " 'oob_score': False,\n",
            " 'random_state': None,\n",
            " 'verbose': 0,\n",
            " 'warm_start': False}\n"
          ],
          "name": "stdout"
        }
      ]
    },
    {
      "cell_type": "markdown",
      "metadata": {
        "id": "_lwTMsrrwS7u",
        "colab_type": "text"
      },
      "source": [
        "Nosso algoritmo possui 18 hiperparâmetros.\n",
        "\n",
        "Testar uma combinção ideal de valores a fim de otimizar o desempenho do algoritimo parece ser uma tarefa que irá tomar muito tempo.\n",
        "\n",
        "Para reduzir nosso trabalho, vamos trabalhar com apenas 6 destes hiperparâmetros:\n",
        "* n_estimators - número de árvores na floresta;\n",
        "* max_features - O número de features a serem considerados ao procurar a melhor divisão;\n",
        "* max_depth - profundidade máxima das árvores;\n",
        "* min_samples_split - Número mínimo de amostras necessárias para dividir um nó interno;\n",
        "* min_samples_leaf - O número mínimo de amostras necessárias para estar em um nó folha;\n",
        "* bootstrap - Se as amostras de autoinicialização serão usadas na construção de árvores. Se False, o conjunto de dados inteiro é usado para criar cada árvore\n",
        "\n",
        "Não vamos nos aprofundar demais nos hiperparâmetros individualmente. O que queremos é entender como o resultado do modelo é afetado pela combinação de valores desses hiperparâmetros.\n",
        "\n",
        "Vamos criar uma função para facilitar nossa vida"
      ]
    },
    {
      "cell_type": "markdown",
      "metadata": {
        "id": "sGNrwiZX--nP",
        "colab_type": "text"
      },
      "source": [
        "### Função para gerar modelos de Random Forest"
      ]
    },
    {
      "cell_type": "code",
      "metadata": {
        "id": "z7AIyhBw--KZ",
        "colab_type": "code",
        "colab": {}
      },
      "source": [
        "def modelTest(n_estimator, max_feature, max_dep, min_sample_split, min_sample_leaf, boot):\n",
        "    rf = RandomForestRegressor(n_estimators=n_estimator, max_features=max_feature, \n",
        "                               max_depth=max_dep, min_samples_split=min_sample_split,\n",
        "                               min_samples_leaf=min_sample_leaf, bootstrap=boot)\n",
        "    \n",
        "    rf.fit(X_train, y_train)\n",
        "    pred = rf.predict(X_val)\n",
        "    r2 = r2_score(y_val, pred)\n",
        "    rmse = np.sqrt(mean_squared_error(y_val, pred))\n",
        "    rmsle = np.sqrt(mean_squared_log_error(y_val, pred))\n",
        "\n",
        "    print('R²: ' + str(r2)[0:6])\n",
        "    print('RMSE: ' + str(rmse)[0:6])\n",
        "    print('RMSLE: ' + str(rmsle)[0:6])"
      ],
      "execution_count": 0,
      "outputs": []
    },
    {
      "cell_type": "markdown",
      "metadata": {
        "id": "7_X4e0cUy5H1",
        "colab_type": "text"
      },
      "source": [
        "O funcionamento dessa função é bastante simples. Ela irá receber os valores dos hiperperâmetros definidos, treinar e testar a RandomForest.\n",
        "\n",
        "Depois, ela nos retorna os valores da métricas R², RMSE e RMSLE, que podem ser explicados de maneira simples como:\n",
        "\n",
        "* R² - Coeficiente de Determinção, que expressa a quantidade de variência dos dados que é explicada pelo modelo.\n",
        "\n",
        "* RMSE - Root Mean Square Error ou Raiz do Erro Médio Quadrático, que é o valor da raiz do erro médio quadrático da diferença entre o valor real e o previsto.\n",
        "\n",
        "* RMSLE - Root Mean Square Log Error, funciona de forma análoga ao RMSE, porém, utilza valores logaritmos.\n",
        "\n",
        "Agora que já temos uma boa base teórica do funcionamento da nossa função, vamos criar alguns modelos e ver seu desempenho."
      ]
    },
    {
      "cell_type": "markdown",
      "metadata": {
        "id": "KEIiESrJx8jc",
        "colab_type": "text"
      },
      "source": [
        "### Modelo 1"
      ]
    },
    {
      "cell_type": "markdown",
      "metadata": {
        "id": "keBczhXX4JF2",
        "colab_type": "text"
      },
      "source": [
        "Vamos começar passando os seguintes valores à nossa função:\n",
        "* n_estimators = 200;\n",
        "* max_features = 'auto';\n",
        "* max_depth = 10;\n",
        "* min_samples_split = 2;\n",
        "* min_samples_leaf = 1;\n",
        "* bootstrap = False.\n",
        "\n",
        "\n",
        "Para que o desempenho do modelo seja considerado bom, precisamos que os valores de R² sejam o mais próxmio possivel de 1 e os valores de RMSE e RMSLE sejam o mais próximo possivel de 0."
      ]
    },
    {
      "cell_type": "code",
      "metadata": {
        "id": "cOyFe3Q-wr9d",
        "colab_type": "code",
        "outputId": "4af97517-d45a-4852-a587-299fb18b7ba9",
        "colab": {
          "base_uri": "https://localhost:8080/",
          "height": 68
        }
      },
      "source": [
        "modelTest(200, 'auto', 10, 2, 1, False)"
      ],
      "execution_count": 0,
      "outputs": [
        {
          "output_type": "stream",
          "text": [
            "R²: 0.7665\n",
            "RMSE: 0.1915\n",
            "RMSLE: 0.0148\n"
          ],
          "name": "stdout"
        }
      ]
    },
    {
      "cell_type": "markdown",
      "metadata": {
        "id": "VUQrCo7K5Rck",
        "colab_type": "text"
      },
      "source": [
        "Este modelo não parece muito bom, vamos continuar testando."
      ]
    },
    {
      "cell_type": "markdown",
      "metadata": {
        "id": "6jhJwofLx_-A",
        "colab_type": "text"
      },
      "source": [
        "### Modelo 2"
      ]
    },
    {
      "cell_type": "markdown",
      "metadata": {
        "id": "uQlGG2f69xko",
        "colab_type": "text"
      },
      "source": [
        "Vamos alterar apenas o valor de 'max_features' para 'sqrt'."
      ]
    },
    {
      "cell_type": "code",
      "metadata": {
        "id": "AM8SStCIxQ3A",
        "colab_type": "code",
        "outputId": "0f4ea199-45e0-4617-8caa-90c32902a4a2",
        "colab": {
          "base_uri": "https://localhost:8080/",
          "height": 68
        }
      },
      "source": [
        "modelTest(200, 'sqrt', 10, 2, 1, False)"
      ],
      "execution_count": 0,
      "outputs": [
        {
          "output_type": "stream",
          "text": [
            "R²: 0.8672\n",
            "RMSE: 0.1444\n",
            "RMSLE: 0.0113\n"
          ],
          "name": "stdout"
        }
      ]
    },
    {
      "cell_type": "markdown",
      "metadata": {
        "id": "XsC63mhh-B_H",
        "colab_type": "text"
      },
      "source": [
        "Essa pequena alteração elevou nosso R² de 0.7665 para 0.8672, e reduziu os valores de RMSE de 0.1915 para 0.1444 e RMSLE de 0.0148 para 0.0113.\n",
        "\n",
        "Mas o que aconteceria se alteracemos o valor de 'bootstrap' de False para True?"
      ]
    },
    {
      "cell_type": "markdown",
      "metadata": {
        "id": "kN366OjszDuW",
        "colab_type": "text"
      },
      "source": [
        "### Modelo 3"
      ]
    },
    {
      "cell_type": "code",
      "metadata": {
        "id": "5ZYBcDGNyukJ",
        "colab_type": "code",
        "outputId": "f390e3d1-14c6-4958-c885-4ee88ba3f004",
        "colab": {
          "base_uri": "https://localhost:8080/",
          "height": 68
        }
      },
      "source": [
        "modelTest(200, 'sqrt', 10, 2, 1, True)"
      ],
      "execution_count": 0,
      "outputs": [
        {
          "output_type": "stream",
          "text": [
            "R²: 0.8604\n",
            "RMSE: 0.1480\n",
            "RMSLE: 0.0116\n"
          ],
          "name": "stdout"
        }
      ]
    },
    {
      "cell_type": "markdown",
      "metadata": {
        "id": "BoT42o8R-o37",
        "colab_type": "text"
      },
      "source": [
        "Nada bom. Essa alteração reduziu nosso R² de 0.8672 para 0.8604 e elevou nosso valores de RMSE de 0.1444 para 0.1480 e RMSLE de 0.0113 para 0.0116.\n",
        "\n",
        "E se mantivermos o valor de 'bootstrap' = False e alterarmos o 'max_depth' de 10 para 100?"
      ]
    },
    {
      "cell_type": "markdown",
      "metadata": {
        "id": "fUtwZgGs_43v",
        "colab_type": "text"
      },
      "source": [
        "### Modelo 4"
      ]
    },
    {
      "cell_type": "code",
      "metadata": {
        "id": "GhLAgJTC9QKq",
        "colab_type": "code",
        "outputId": "a1cf0750-90fc-4fc9-e7e5-5809944c7eea",
        "colab": {
          "base_uri": "https://localhost:8080/",
          "height": 68
        }
      },
      "source": [
        "modelTest(200, 'sqrt', 100, 2, 1, False)"
      ],
      "execution_count": 0,
      "outputs": [
        {
          "output_type": "stream",
          "text": [
            "R²: 0.8671\n",
            "RMSE: 0.1444\n",
            "RMSLE: 0.0113\n"
          ],
          "name": "stdout"
        }
      ]
    },
    {
      "cell_type": "markdown",
      "metadata": {
        "id": "-AowTvPa_anl",
        "colab_type": "text"
      },
      "source": [
        "Já deu pra entender né?\n",
        "\n",
        "Testar os valores dos hiperparâmetros manualmente seria uma tarefa exaustiva e interminável.\n",
        "\n",
        "É por isso que existem ferramentas para nos ajudar a fazer esse 'tunning' nos valores. Uma delas é o GridSerachCV. \n",
        "\n",
        "Vamos dar uma olhada no seu funcionamento.\n",
        "\n"
      ]
    },
    {
      "cell_type": "markdown",
      "metadata": {
        "id": "xOVYEsekASD7",
        "colab_type": "text"
      },
      "source": [
        "### GridSearchCV"
      ]
    },
    {
      "cell_type": "markdown",
      "metadata": {
        "id": "donyFCWtAGVp",
        "colab_type": "text"
      },
      "source": [
        "O GridSerach é uma ferramenta que nos permite criar um dicionário de valores para os hiperparâmetros do nosso modelo, e testar todas as combinaçãoes possíveis entre eles.\n",
        "\n",
        "Vamos ver isso na prática.\n",
        "\n",
        "\n",
        "Primeiro, vamos instanciar o modelo, passando apenas dois parâmetros que queremos manter em todos os testes, 'random_state=42' e 'n_jobs=-1'."
      ]
    },
    {
      "cell_type": "code",
      "metadata": {
        "id": "loplHHTaBXbu",
        "colab_type": "code",
        "colab": {}
      },
      "source": [
        "rf = RandomForestRegressor(random_state=42, n_jobs=-1)"
      ],
      "execution_count": 0,
      "outputs": []
    },
    {
      "cell_type": "markdown",
      "metadata": {
        "id": "eLLntA7xBt1t",
        "colab_type": "text"
      },
      "source": [
        "Agora vamos criar um dicionário contendo os hiperparâmetros que queremos testar e atribuindo uma séria de valores à eles."
      ]
    },
    {
      "cell_type": "code",
      "metadata": {
        "id": "1HlE3eOVB6dp",
        "colab_type": "code",
        "colab": {}
      },
      "source": [
        "parameters = {'n_estimators': [100, 200],\n",
        "              'max_features': ['auto', 'sqrt'],\n",
        "              'max_depth': [10, 50],\n",
        "              'min_samples_split': [2, 5],\n",
        "              'min_samples_leaf': [1, 3],\n",
        "              'bootstrap': [True, False]\n",
        "              }"
      ],
      "execution_count": 0,
      "outputs": []
    },
    {
      "cell_type": "markdown",
      "metadata": {
        "id": "GNLGxvkHCACE",
        "colab_type": "text"
      },
      "source": [
        "Então criamos o nosso grid, passando à ele o modelo e a lista de parâmetros criados."
      ]
    },
    {
      "cell_type": "code",
      "metadata": {
        "id": "_X3bx3d5CR-W",
        "colab_type": "code",
        "colab": {}
      },
      "source": [
        "grid = GridSearchCV(rf, parameters, verbose=1, scoring='r2')"
      ],
      "execution_count": 0,
      "outputs": []
    },
    {
      "cell_type": "markdown",
      "metadata": {
        "id": "m6YHLe2ZCVXa",
        "colab_type": "text"
      },
      "source": [
        "Agora vamos treinar o modelo por meio do grid e usar os métodos 'best_estimator_' e 'best_score_' para nos retornar a melhor combinação de valores e a melhor pontuação."
      ]
    },
    {
      "cell_type": "code",
      "metadata": {
        "id": "ejRpkqgPAAwP",
        "colab_type": "code",
        "outputId": "9111f479-8b77-44d9-a13a-185c200e3a3e",
        "colab": {
          "base_uri": "https://localhost:8080/",
          "height": 204
        }
      },
      "source": [
        "grid.fit(X_train, y_train)\n",
        "\n",
        "print('Melhor Modelo: ' + str(grid.best_estimator_))\n",
        "print('Best Score: ' + str(grid.best_score_))"
      ],
      "execution_count": 0,
      "outputs": [
        {
          "output_type": "stream",
          "text": [
            "Fitting 5 folds for each of 64 candidates, totalling 320 fits\n"
          ],
          "name": "stdout"
        },
        {
          "output_type": "stream",
          "text": [
            "[Parallel(n_jobs=1)]: Using backend SequentialBackend with 1 concurrent workers.\n",
            "[Parallel(n_jobs=1)]: Done 320 out of 320 | elapsed:  4.5min finished\n"
          ],
          "name": "stderr"
        },
        {
          "output_type": "stream",
          "text": [
            "Melhor Modelo: RandomForestRegressor(bootstrap=False, ccp_alpha=0.0, criterion='mse',\n",
            "                      max_depth=50, max_features='sqrt', max_leaf_nodes=None,\n",
            "                      max_samples=None, min_impurity_decrease=0.0,\n",
            "                      min_impurity_split=None, min_samples_leaf=1,\n",
            "                      min_samples_split=2, min_weight_fraction_leaf=0.0,\n",
            "                      n_estimators=200, n_jobs=-1, oob_score=False,\n",
            "                      random_state=42, verbose=0, warm_start=False)\n",
            "Best Score: 0.8684221719703858\n"
          ],
          "name": "stdout"
        }
      ]
    },
    {
      "cell_type": "markdown",
      "metadata": {
        "id": "LhuTsdNPC2oo",
        "colab_type": "text"
      },
      "source": [
        "O GridSearch rodou 320 possíveis ajustes entre os hiperparâmetros.\n",
        "\n",
        "A melhor combinção de valores foi:\n",
        "* n_estimators = 200;\n",
        "* max_features = 'sqrt';\n",
        "* max_depth = 50;\n",
        "* min_samples_split = 2;\n",
        "* min_samples_leaf = 1;\n",
        "* bootstrap = False;\n",
        "\n",
        "\n",
        "Agora podemos retreinar nosso modelo, passando à ele os melhores valores testados pelo GridSearchCv."
      ]
    },
    {
      "cell_type": "code",
      "metadata": {
        "id": "5dsZy-tPDscQ",
        "colab_type": "code",
        "colab": {}
      },
      "source": [
        "rf = grid.best_estimator_"
      ],
      "execution_count": 0,
      "outputs": []
    },
    {
      "cell_type": "markdown",
      "metadata": {
        "id": "rcwPFmmzEcQg",
        "colab_type": "text"
      },
      "source": [
        "E executamos o restante do processo, que já vimos acima."
      ]
    },
    {
      "cell_type": "code",
      "metadata": {
        "id": "g0VJxW24BvIv",
        "colab_type": "code",
        "outputId": "35832cfa-ead0-40d5-c3a6-c094046d771f",
        "colab": {
          "base_uri": "https://localhost:8080/",
          "height": 68
        }
      },
      "source": [
        "rf.fit(X_train, y_train)\n",
        "pred = rf.predict(X_val)\n",
        "r2 = r2_score(y_val, pred)\n",
        "rmse = np.sqrt(mean_squared_error(y_val, pred))\n",
        "rmsle = np.sqrt(mean_squared_log_error(y_val, pred))\n",
        "\n",
        "print('R² Score: ' + str(r2)[0:6])\n",
        "print('RMSE Score: ' + str(rmse)[0:6])\n",
        "print('RMSLE Score: ' + str(rmsle)[0:6])"
      ],
      "execution_count": 0,
      "outputs": [
        {
          "output_type": "stream",
          "text": [
            "R² Score: 0.8649\n",
            "RMSE Score: 0.1456\n",
            "RMSLE Score: 0.0114\n"
          ],
          "name": "stdout"
        }
      ]
    },
    {
      "cell_type": "markdown",
      "metadata": {
        "id": "XhhEyUfiEirw",
        "colab_type": "text"
      },
      "source": [
        "E pra concluir, podemos fazer a validação cruzada, que consiste em uma técnica utilzada para avaliar a capacidade de generalizaçao de um modelo."
      ]
    },
    {
      "cell_type": "code",
      "metadata": {
        "id": "k86p1xnfKxhE",
        "colab_type": "code",
        "outputId": "3c91e135-a3a2-4761-b67c-67bab04ef243",
        "colab": {
          "base_uri": "https://localhost:8080/",
          "height": 34
        }
      },
      "source": [
        "scores = cross_val_score(rf, X_train, y_train, cv=10, scoring='r2')\n",
        "print('Cross Validation Score: ' + str(np.mean(scores))[0:6])"
      ],
      "execution_count": 0,
      "outputs": [
        {
          "output_type": "stream",
          "text": [
            "Cross Validation Score: 0.8590\n"
          ],
          "name": "stdout"
        }
      ]
    },
    {
      "cell_type": "markdown",
      "metadata": {
        "id": "ce73IvZzFf-g",
        "colab_type": "text"
      },
      "source": [
        "Nosso modelo teve uma pontuação inicial de 85,9% o que não é ruim. Mas é claro que aqui o intuito é apenas didatico.\n",
        "\n",
        "Em condições reais o ideal seria testar maiores combinações de valores, a fim de otimizar os resultados.\n",
        "\n",
        "No entando, por se tratar de um processo exaustivo de combinações, o GridSearch pode se mostrar um tanto lento dependendo do tamanho da lista de valores passada.\n",
        "\n",
        "Existem outras ferramentas para nos auxiliar com esses testes, como a RandomSearchCV, mas isso é assunto pra outro artigo.\n",
        "\n",
        "Muito obrigado por ter chegado até aqui, espero de alguma forma ter contibuido com o seu conhecimento.\n",
        "\n",
        "O código completo utilizado no artigo você encontra no link abaixo.\n",
        "\n",
        "Até a próxima!"
      ]
    },
    {
      "cell_type": "code",
      "metadata": {
        "id": "yxXMDBB2H3Ek",
        "colab_type": "code",
        "colab": {}
      },
      "source": [
        ""
      ],
      "execution_count": 0,
      "outputs": []
    }
  ]
}