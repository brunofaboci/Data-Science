{
 "cells": [
  {
   "cell_type": "code",
   "execution_count": 55,
   "metadata": {},
   "outputs": [
    {
     "name": "stdout",
     "output_type": "stream",
     "text": [
      "Dados dos Sobreviventes do Titanic\n"
     ]
    },
    {
     "data": {
      "text/html": [
       "<div>\n",
       "<style scoped>\n",
       "    .dataframe tbody tr th:only-of-type {\n",
       "        vertical-align: middle;\n",
       "    }\n",
       "\n",
       "    .dataframe tbody tr th {\n",
       "        vertical-align: top;\n",
       "    }\n",
       "\n",
       "    .dataframe thead th {\n",
       "        text-align: right;\n",
       "    }\n",
       "</style>\n",
       "<table border=\"1\" class=\"dataframe\">\n",
       "  <thead>\n",
       "    <tr style=\"text-align: right;\">\n",
       "      <th></th>\n",
       "      <th>PassengerId</th>\n",
       "      <th>Survived</th>\n",
       "      <th>Pclass</th>\n",
       "      <th>Name</th>\n",
       "      <th>Sex</th>\n",
       "      <th>Age</th>\n",
       "      <th>SibSp</th>\n",
       "      <th>Parch</th>\n",
       "      <th>Ticket</th>\n",
       "      <th>Fare</th>\n",
       "      <th>Cabin</th>\n",
       "      <th>Embarked</th>\n",
       "    </tr>\n",
       "  </thead>\n",
       "  <tbody>\n",
       "    <tr>\n",
       "      <th>0</th>\n",
       "      <td>1</td>\n",
       "      <td>0</td>\n",
       "      <td>3</td>\n",
       "      <td>Braund, Mr. Owen Harris</td>\n",
       "      <td>male</td>\n",
       "      <td>22.0</td>\n",
       "      <td>1</td>\n",
       "      <td>0</td>\n",
       "      <td>A/5 21171</td>\n",
       "      <td>7.2500</td>\n",
       "      <td>NaN</td>\n",
       "      <td>S</td>\n",
       "    </tr>\n",
       "    <tr>\n",
       "      <th>1</th>\n",
       "      <td>2</td>\n",
       "      <td>1</td>\n",
       "      <td>1</td>\n",
       "      <td>Cumings, Mrs. John Bradley (Florence Briggs Th...</td>\n",
       "      <td>female</td>\n",
       "      <td>38.0</td>\n",
       "      <td>1</td>\n",
       "      <td>0</td>\n",
       "      <td>PC 17599</td>\n",
       "      <td>71.2833</td>\n",
       "      <td>C85</td>\n",
       "      <td>C</td>\n",
       "    </tr>\n",
       "    <tr>\n",
       "      <th>2</th>\n",
       "      <td>3</td>\n",
       "      <td>1</td>\n",
       "      <td>3</td>\n",
       "      <td>Heikkinen, Miss. Laina</td>\n",
       "      <td>female</td>\n",
       "      <td>26.0</td>\n",
       "      <td>0</td>\n",
       "      <td>0</td>\n",
       "      <td>STON/O2. 3101282</td>\n",
       "      <td>7.9250</td>\n",
       "      <td>NaN</td>\n",
       "      <td>S</td>\n",
       "    </tr>\n",
       "    <tr>\n",
       "      <th>3</th>\n",
       "      <td>4</td>\n",
       "      <td>1</td>\n",
       "      <td>1</td>\n",
       "      <td>Futrelle, Mrs. Jacques Heath (Lily May Peel)</td>\n",
       "      <td>female</td>\n",
       "      <td>35.0</td>\n",
       "      <td>1</td>\n",
       "      <td>0</td>\n",
       "      <td>113803</td>\n",
       "      <td>53.1000</td>\n",
       "      <td>C123</td>\n",
       "      <td>S</td>\n",
       "    </tr>\n",
       "    <tr>\n",
       "      <th>4</th>\n",
       "      <td>5</td>\n",
       "      <td>0</td>\n",
       "      <td>3</td>\n",
       "      <td>Allen, Mr. William Henry</td>\n",
       "      <td>male</td>\n",
       "      <td>35.0</td>\n",
       "      <td>0</td>\n",
       "      <td>0</td>\n",
       "      <td>373450</td>\n",
       "      <td>8.0500</td>\n",
       "      <td>NaN</td>\n",
       "      <td>S</td>\n",
       "    </tr>\n",
       "  </tbody>\n",
       "</table>\n",
       "</div>"
      ],
      "text/plain": [
       "   PassengerId  Survived  Pclass  \\\n",
       "0            1         0       3   \n",
       "1            2         1       1   \n",
       "2            3         1       3   \n",
       "3            4         1       1   \n",
       "4            5         0       3   \n",
       "\n",
       "                                                Name     Sex   Age  SibSp  \\\n",
       "0                            Braund, Mr. Owen Harris    male  22.0      1   \n",
       "1  Cumings, Mrs. John Bradley (Florence Briggs Th...  female  38.0      1   \n",
       "2                             Heikkinen, Miss. Laina  female  26.0      0   \n",
       "3       Futrelle, Mrs. Jacques Heath (Lily May Peel)  female  35.0      1   \n",
       "4                           Allen, Mr. William Henry    male  35.0      0   \n",
       "\n",
       "   Parch            Ticket     Fare Cabin Embarked  \n",
       "0      0         A/5 21171   7.2500   NaN        S  \n",
       "1      0          PC 17599  71.2833   C85        C  \n",
       "2      0  STON/O2. 3101282   7.9250   NaN        S  \n",
       "3      0            113803  53.1000  C123        S  \n",
       "4      0            373450   8.0500   NaN        S  "
      ]
     },
     "metadata": {},
     "output_type": "display_data"
    }
   ],
   "source": [
    "#PROJETO FINAL - Importando Dados\n",
    "\n",
    "import pandas as pd\n",
    "import numpy as np\n",
    "import matplotlib.pyplot as plt\n",
    "% matplotlib inline\n",
    "import seaborn as sns\n",
    "sns.set_style('darkgrid')\n",
    "\n",
    "df_titanic = pd.read_csv('titanic-data-6.csv')\n",
    "print('Dados dos Sobreviventes do Titanic')\n",
    "display(df_titanic.head())"
   ]
  },
  {
   "cell_type": "markdown",
   "metadata": {},
   "source": [
    "O CONJUNTO DE DADOS ACIMA SE REFERE À INDIVIDUOS QUE ESTAVAM A BORDO DO TITANIC.\n",
    "\n",
    "ABAIXO SEGUE UM PEQUENO RESUMO DAS VARIAVEIS CONTINAS NO ARQUIVO.\n",
    "\n",
    "\n",
    "Survived = Sobrevivente; 0 = não, 1 = sim\n",
    "Pclass = Classe do Bilhete; 1 = 1º;  2=2º;  3=3º\n",
    "sex = Genero\t\n",
    "Age = Idade em Anos\t\n",
    "Sibsp = número de irmãos/conjuges a bordo do titanic\t\n",
    "parch = número de pais/filhos a bordo do titanic\t\n",
    "ticket = número do bilhete\t\n",
    "fare = tarifa do passageiro\t\n",
    "cabin = número da cabine\t\n",
    "embarked = porto de embarcação; C = Cherbourg; Q = Queenstown; S = Southampton\n",
    "\n",
    "__NOTAS__:\n",
    "\n",
    "*Pclass - Status Socioeconomico\n",
    "1º - Alto\n",
    "2º - Médio\n",
    "3º - Baixo\n",
    "\n",
    "*Age - Idade fracionada se for menor que 1.\n",
    "\n",
    "*Sibsp - O conjunto de dados define relações familiares desta forma:\n",
    " *Sibling - irmão/irmã, meio-irmão/meia-irmã\n",
    " *Sponse - marido/esposa (amantes e noivas não entram na contagem)\n",
    "\n",
    "*Parch - O conjunto de dados define relações familiares desta forma;\n",
    " *parent - mãe/pai\n",
    " *child - filho/filha/enteado/enteada\n",
    " **ALgumas crianças viajavam com babá, portanto neste caso \"parch=0\""
   ]
  },
  {
   "cell_type": "markdown",
   "metadata": {},
   "source": [
    "COM BASE NESTE CONJUNTO DE DADOS, AS SEGUINTES QUESTÕES SERÃO ANALISADAS:\n",
    "\n",
    "•\tQuais foram os fatores que fizeram com que algumas pessoas fossem mais propensas a sobreviver?\n",
    "\n",
    "•\tMulheres tiveram uma taxa maior de sobrevivência em relação aos homens?\n",
    "\n",
    "•\tExiste alguma relação entre as classes sociais e o número de sobreviventes?"
   ]
  },
  {
   "cell_type": "markdown",
   "metadata": {},
   "source": [
    "SEGUE ABAIXO O PROCESSO DE AVALIÇÃO E LIMPEZA DOS DADOS"
   ]
  },
  {
   "cell_type": "code",
   "execution_count": 69,
   "metadata": {},
   "outputs": [],
   "source": [
    "#Criando um Função para Analisar os dados\n",
    "def analise(data):\n",
    "    \"\"\"\n",
    "    Parametro: Insira o DataFrame que deseja analisar\n",
    "    Return: Retorna a análise dos itens contidos na função\n",
    "    \"\"\"\n",
    "    \n",
    "    amostras = data.shape[0]\n",
    "    colunas = data.shape[1]\n",
    "    \n",
    "    duplicadas = data.duplicated().sum()\n",
    "    \n",
    "    tipo = data.dtypes\n",
    "    \n",
    "    faltantes = data.isnull().sum()\n",
    "    \n",
    "    unicos = data.nunique()\n",
    "    \n",
    "    return [print('O número de amostras é de {0} e o número de colunas é de {1}.\\n\\nExistem {2} linhas duplicadas no DataFrame.\\n\\nTipos de dados do DataFrame:\\n\\n{3}\\n\\nValores Faltantes no DataFrame:\\n\\n{4}\\n\\nValores Unicos no DataFrame:\\n\\n{5}\\n\\n'.format(\n",
    "        amostras, colunas, duplicadas, tipo, faltantes, unicos))]\n"
   ]
  },
  {
   "cell_type": "markdown",
   "metadata": {},
   "source": [
    "O propósito da função \"Analise\" é fazer a análise inical do DataFrame. São checados nessa função o número de amostra e colunas, a existencia de valores duplicados, o tipos das variaveis, a existencia de valores faltantes e a quantidade de valores únicos."
   ]
  },
  {
   "cell_type": "code",
   "execution_count": 70,
   "metadata": {},
   "outputs": [
    {
     "name": "stdout",
     "output_type": "stream",
     "text": [
      "O número de amostras é de 891 e o número de colunas é de 12.\n",
      "\n",
      "Existem 0 linhas duplicadas no DataFrame.\n",
      "\n",
      "Tipos de dados do DataFrame:\n",
      "\n",
      "PassengerId      int64\n",
      "Survived         int64\n",
      "Pclass           int64\n",
      "Name            object\n",
      "Sex             object\n",
      "Age            float64\n",
      "SibSp            int64\n",
      "Parch            int64\n",
      "Ticket          object\n",
      "Fare           float64\n",
      "Cabin           object\n",
      "Embarked        object\n",
      "dtype: object\n",
      "\n",
      "Valores Faltantes no DataFrame:\n",
      "\n",
      "PassengerId      0\n",
      "Survived         0\n",
      "Pclass           0\n",
      "Name             0\n",
      "Sex              0\n",
      "Age            177\n",
      "SibSp            0\n",
      "Parch            0\n",
      "Ticket           0\n",
      "Fare             0\n",
      "Cabin          687\n",
      "Embarked         2\n",
      "dtype: int64\n",
      "\n",
      "Valores Unicos no DataFrame:\n",
      "\n",
      "PassengerId    891\n",
      "Survived         2\n",
      "Pclass           3\n",
      "Name           891\n",
      "Sex              2\n",
      "Age             88\n",
      "SibSp            7\n",
      "Parch            7\n",
      "Ticket         681\n",
      "Fare           248\n",
      "Cabin          147\n",
      "Embarked         3\n",
      "dtype: int64\n",
      "\n",
      "\n",
      "[None]\n"
     ]
    }
   ],
   "source": [
    "#Analisando os dados\n",
    "print(analise(df_titanic))"
   ]
  },
  {
   "cell_type": "code",
   "execution_count": 7,
   "metadata": {},
   "outputs": [
    {
     "data": {
      "text/html": [
       "<div>\n",
       "<style scoped>\n",
       "    .dataframe tbody tr th:only-of-type {\n",
       "        vertical-align: middle;\n",
       "    }\n",
       "\n",
       "    .dataframe tbody tr th {\n",
       "        vertical-align: top;\n",
       "    }\n",
       "\n",
       "    .dataframe thead th {\n",
       "        text-align: right;\n",
       "    }\n",
       "</style>\n",
       "<table border=\"1\" class=\"dataframe\">\n",
       "  <thead>\n",
       "    <tr style=\"text-align: right;\">\n",
       "      <th></th>\n",
       "      <th>passengerid</th>\n",
       "      <th>survived</th>\n",
       "      <th>pclass</th>\n",
       "      <th>name</th>\n",
       "      <th>sex</th>\n",
       "      <th>age</th>\n",
       "      <th>sibsp</th>\n",
       "      <th>parch</th>\n",
       "      <th>ticket</th>\n",
       "      <th>fare</th>\n",
       "      <th>cabin</th>\n",
       "      <th>embarked</th>\n",
       "    </tr>\n",
       "  </thead>\n",
       "  <tbody>\n",
       "    <tr>\n",
       "      <th>0</th>\n",
       "      <td>1</td>\n",
       "      <td>0</td>\n",
       "      <td>3</td>\n",
       "      <td>Braund, Mr. Owen Harris</td>\n",
       "      <td>male</td>\n",
       "      <td>22.0</td>\n",
       "      <td>1</td>\n",
       "      <td>0</td>\n",
       "      <td>A/5 21171</td>\n",
       "      <td>7.2500</td>\n",
       "      <td>NaN</td>\n",
       "      <td>S</td>\n",
       "    </tr>\n",
       "    <tr>\n",
       "      <th>1</th>\n",
       "      <td>2</td>\n",
       "      <td>1</td>\n",
       "      <td>1</td>\n",
       "      <td>Cumings, Mrs. John Bradley (Florence Briggs Th...</td>\n",
       "      <td>female</td>\n",
       "      <td>38.0</td>\n",
       "      <td>1</td>\n",
       "      <td>0</td>\n",
       "      <td>PC 17599</td>\n",
       "      <td>71.2833</td>\n",
       "      <td>C85</td>\n",
       "      <td>C</td>\n",
       "    </tr>\n",
       "    <tr>\n",
       "      <th>2</th>\n",
       "      <td>3</td>\n",
       "      <td>1</td>\n",
       "      <td>3</td>\n",
       "      <td>Heikkinen, Miss. Laina</td>\n",
       "      <td>female</td>\n",
       "      <td>26.0</td>\n",
       "      <td>0</td>\n",
       "      <td>0</td>\n",
       "      <td>STON/O2. 3101282</td>\n",
       "      <td>7.9250</td>\n",
       "      <td>NaN</td>\n",
       "      <td>S</td>\n",
       "    </tr>\n",
       "    <tr>\n",
       "      <th>3</th>\n",
       "      <td>4</td>\n",
       "      <td>1</td>\n",
       "      <td>1</td>\n",
       "      <td>Futrelle, Mrs. Jacques Heath (Lily May Peel)</td>\n",
       "      <td>female</td>\n",
       "      <td>35.0</td>\n",
       "      <td>1</td>\n",
       "      <td>0</td>\n",
       "      <td>113803</td>\n",
       "      <td>53.1000</td>\n",
       "      <td>C123</td>\n",
       "      <td>S</td>\n",
       "    </tr>\n",
       "    <tr>\n",
       "      <th>4</th>\n",
       "      <td>5</td>\n",
       "      <td>0</td>\n",
       "      <td>3</td>\n",
       "      <td>Allen, Mr. William Henry</td>\n",
       "      <td>male</td>\n",
       "      <td>35.0</td>\n",
       "      <td>0</td>\n",
       "      <td>0</td>\n",
       "      <td>373450</td>\n",
       "      <td>8.0500</td>\n",
       "      <td>NaN</td>\n",
       "      <td>S</td>\n",
       "    </tr>\n",
       "  </tbody>\n",
       "</table>\n",
       "</div>"
      ],
      "text/plain": [
       "   passengerid  survived  pclass  \\\n",
       "0            1         0       3   \n",
       "1            2         1       1   \n",
       "2            3         1       3   \n",
       "3            4         1       1   \n",
       "4            5         0       3   \n",
       "\n",
       "                                                name     sex   age  sibsp  \\\n",
       "0                            Braund, Mr. Owen Harris    male  22.0      1   \n",
       "1  Cumings, Mrs. John Bradley (Florence Briggs Th...  female  38.0      1   \n",
       "2                             Heikkinen, Miss. Laina  female  26.0      0   \n",
       "3       Futrelle, Mrs. Jacques Heath (Lily May Peel)  female  35.0      1   \n",
       "4                           Allen, Mr. William Henry    male  35.0      0   \n",
       "\n",
       "   parch            ticket     fare cabin embarked  \n",
       "0      0         A/5 21171   7.2500   NaN        S  \n",
       "1      0          PC 17599  71.2833   C85        C  \n",
       "2      0  STON/O2. 3101282   7.9250   NaN        S  \n",
       "3      0            113803  53.1000  C123        S  \n",
       "4      0            373450   8.0500   NaN        S  "
      ]
     },
     "execution_count": 7,
     "metadata": {},
     "output_type": "execute_result"
    }
   ],
   "source": [
    "#Renomear as colunas para minusculo\n",
    "df_titanic.rename(columns=lambda x: x.strip().lower().replace(' ', '_'), inplace=True)\n",
    "\n",
    "#Confirmando\n",
    "df_titanic.head()"
   ]
  },
  {
   "cell_type": "code",
   "execution_count": 8,
   "metadata": {},
   "outputs": [
    {
     "data": {
      "text/plain": [
       "passengerid      0\n",
       "survived         0\n",
       "pclass           0\n",
       "name             0\n",
       "sex              0\n",
       "age              0\n",
       "sibsp            0\n",
       "parch            0\n",
       "ticket           0\n",
       "fare             0\n",
       "cabin          687\n",
       "embarked         2\n",
       "dtype: int64"
      ]
     },
     "execution_count": 8,
     "metadata": {},
     "output_type": "execute_result"
    }
   ],
   "source": [
    "#preenchendo colunas com valores faltantes\n",
    "mean = df_titanic['age'].mean()\n",
    "df_titanic['age'].fillna(mean, inplace=True)\n",
    "\n",
    "#confirmando\n",
    "df_titanic.isnull().sum()"
   ]
  },
  {
   "cell_type": "code",
   "execution_count": 9,
   "metadata": {},
   "outputs": [
    {
     "data": {
      "text/plain": [
       "passengerid    0\n",
       "survived       0\n",
       "pclass         0\n",
       "name           0\n",
       "sex            0\n",
       "age            0\n",
       "sibsp          0\n",
       "parch          0\n",
       "dtype: int64"
      ]
     },
     "execution_count": 9,
     "metadata": {},
     "output_type": "execute_result"
    }
   ],
   "source": [
    "#apagando colunas irrelevantes\n",
    "df_titanic.drop(['cabin','ticket', 'fare', 'embarked'], axis=1, inplace=True)\n",
    "\n",
    "#confirmando\n",
    "df_titanic.isnull().sum()"
   ]
  },
  {
   "cell_type": "code",
   "execution_count": 10,
   "metadata": {},
   "outputs": [],
   "source": [
    "#salvando as alterações\n",
    "df_titanic.to_csv('data_titanic.csv', index=False)"
   ]
  },
  {
   "cell_type": "markdown",
   "metadata": {},
   "source": [
    "__LIMPEZA DOS DADOS__\n",
    "\n",
    "•\tAvaliar os dados – foi checado a quantidade de amostra e colunas do conjunto de dados, bem como os tipos dos dados de cada coluna. Também foi analisado se havia valores faltantes, linhas duplicadas e valores únicos.\n",
    "\n",
    "•\tTratamento dos dados – no tratamento dos dados foi feita a substituição dos rótulos das colunas, mantendo os nomes     originais, porém convertendo os nomes para caixa baixa e eliminando underlines.\n",
    "\n",
    "Foi constatado que na coluna “age” havia valores faltantes. Para resolver esse problema foi calculada a média dos valores de idade e esse valor foi utilizado para preenchimento das linhas em branco na coluna “age”.\n",
    "\n",
    "As colunas que apresentavam valores irrelevantes ou que não ofereciam contribuição relevante para a analise foram descartas. Essas colunas foram “cabin”, “ticket”, “fare” e “embarked”.\n",
    "\n",
    "•\tApós o limpeza dos dados, os mesmo foram salvos em um novo conjunto, denominado \"data_titanic.csv\n"
   ]
  },
  {
   "cell_type": "code",
   "execution_count": 11,
   "metadata": {},
   "outputs": [
    {
     "name": "stdout",
     "output_type": "stream",
     "text": [
      "Dados do Titanic\n"
     ]
    },
    {
     "data": {
      "text/html": [
       "<div>\n",
       "<style scoped>\n",
       "    .dataframe tbody tr th:only-of-type {\n",
       "        vertical-align: middle;\n",
       "    }\n",
       "\n",
       "    .dataframe tbody tr th {\n",
       "        vertical-align: top;\n",
       "    }\n",
       "\n",
       "    .dataframe thead th {\n",
       "        text-align: right;\n",
       "    }\n",
       "</style>\n",
       "<table border=\"1\" class=\"dataframe\">\n",
       "  <thead>\n",
       "    <tr style=\"text-align: right;\">\n",
       "      <th></th>\n",
       "      <th>passengerid</th>\n",
       "      <th>survived</th>\n",
       "      <th>pclass</th>\n",
       "      <th>name</th>\n",
       "      <th>sex</th>\n",
       "      <th>age</th>\n",
       "      <th>sibsp</th>\n",
       "      <th>parch</th>\n",
       "    </tr>\n",
       "  </thead>\n",
       "  <tbody>\n",
       "    <tr>\n",
       "      <th>0</th>\n",
       "      <td>1</td>\n",
       "      <td>0</td>\n",
       "      <td>3</td>\n",
       "      <td>Braund, Mr. Owen Harris</td>\n",
       "      <td>male</td>\n",
       "      <td>22.0</td>\n",
       "      <td>1</td>\n",
       "      <td>0</td>\n",
       "    </tr>\n",
       "    <tr>\n",
       "      <th>1</th>\n",
       "      <td>2</td>\n",
       "      <td>1</td>\n",
       "      <td>1</td>\n",
       "      <td>Cumings, Mrs. John Bradley (Florence Briggs Th...</td>\n",
       "      <td>female</td>\n",
       "      <td>38.0</td>\n",
       "      <td>1</td>\n",
       "      <td>0</td>\n",
       "    </tr>\n",
       "    <tr>\n",
       "      <th>2</th>\n",
       "      <td>3</td>\n",
       "      <td>1</td>\n",
       "      <td>3</td>\n",
       "      <td>Heikkinen, Miss. Laina</td>\n",
       "      <td>female</td>\n",
       "      <td>26.0</td>\n",
       "      <td>0</td>\n",
       "      <td>0</td>\n",
       "    </tr>\n",
       "    <tr>\n",
       "      <th>3</th>\n",
       "      <td>4</td>\n",
       "      <td>1</td>\n",
       "      <td>1</td>\n",
       "      <td>Futrelle, Mrs. Jacques Heath (Lily May Peel)</td>\n",
       "      <td>female</td>\n",
       "      <td>35.0</td>\n",
       "      <td>1</td>\n",
       "      <td>0</td>\n",
       "    </tr>\n",
       "    <tr>\n",
       "      <th>4</th>\n",
       "      <td>5</td>\n",
       "      <td>0</td>\n",
       "      <td>3</td>\n",
       "      <td>Allen, Mr. William Henry</td>\n",
       "      <td>male</td>\n",
       "      <td>35.0</td>\n",
       "      <td>0</td>\n",
       "      <td>0</td>\n",
       "    </tr>\n",
       "  </tbody>\n",
       "</table>\n",
       "</div>"
      ],
      "text/plain": [
       "   passengerid  survived  pclass  \\\n",
       "0            1         0       3   \n",
       "1            2         1       1   \n",
       "2            3         1       3   \n",
       "3            4         1       1   \n",
       "4            5         0       3   \n",
       "\n",
       "                                                name     sex   age  sibsp  \\\n",
       "0                            Braund, Mr. Owen Harris    male  22.0      1   \n",
       "1  Cumings, Mrs. John Bradley (Florence Briggs Th...  female  38.0      1   \n",
       "2                             Heikkinen, Miss. Laina  female  26.0      0   \n",
       "3       Futrelle, Mrs. Jacques Heath (Lily May Peel)  female  35.0      1   \n",
       "4                           Allen, Mr. William Henry    male  35.0      0   \n",
       "\n",
       "   parch  \n",
       "0      0  \n",
       "1      0  \n",
       "2      0  \n",
       "3      0  \n",
       "4      0  "
      ]
     },
     "metadata": {},
     "output_type": "display_data"
    }
   ],
   "source": [
    "#importando novo conjunto de dados\n",
    "df_titan = pd.read_csv('data_titanic.csv')\n",
    "print('Dados do Titanic')\n",
    "display(df_titan.head())"
   ]
  },
  {
   "cell_type": "code",
   "execution_count": 68,
   "metadata": {},
   "outputs": [
    {
     "name": "stdout",
     "output_type": "stream",
     "text": [
      "O número de amostras é de 891 e o número de colunas é de 8.\n",
      "\n",
      "Existem 0 linhas duplicadas no DataFrame.\n",
      "\n",
      "Tipos de dados do DataFrame:\n",
      "\n",
      "passengerid      int64\n",
      "survived         int64\n",
      "pclass           int64\n",
      "name            object\n",
      "sex             object\n",
      "age            float64\n",
      "sibsp            int64\n",
      "parch            int64\n",
      "dtype: object\n",
      "\n",
      "Valores Faltantes no DataFrame:\n",
      "\n",
      "passengerid    0\n",
      "survived       0\n",
      "pclass         0\n",
      "name           0\n",
      "sex            0\n",
      "age            0\n",
      "sibsp          0\n",
      "parch          0\n",
      "dtype: int64\n",
      "\n",
      "Valores Unicos no DataFrame:\n",
      "\n",
      "passengerid    891\n",
      "survived         2\n",
      "pclass           3\n",
      "name           891\n",
      "sex              2\n",
      "age             89\n",
      "sibsp            7\n",
      "parch            7\n",
      "dtype: int64\n",
      "\n",
      "\n",
      "[None]\n"
     ]
    }
   ],
   "source": [
    "#Analisando o novo DataFrame\n",
    "print(analise(df_titan))"
   ]
  },
  {
   "cell_type": "code",
   "execution_count": 12,
   "metadata": {},
   "outputs": [],
   "source": [
    "# dividindo as pessoas em classes sociais\n",
    "class_3 = df_titan.query('pclass == \"3\"')\n",
    "class_2 = df_titan.query('pclass == \"2\"')\n",
    "class_1 = df_titan.query('pclass == \"1\"')"
   ]
  },
  {
   "cell_type": "code",
   "execution_count": 13,
   "metadata": {},
   "outputs": [
    {
     "data": {
      "text/plain": [
       "<matplotlib.axes._subplots.AxesSubplot at 0x1c3e8a6f588>"
      ]
     },
     "execution_count": 13,
     "metadata": {},
     "output_type": "execute_result"
    },
    {
     "data": {
      "image/png": "[encoded data removed]",
      "text/plain": [
       "<Figure size 432x288 with 1 Axes>"
      ]
     },
     "metadata": {},
     "output_type": "display_data"
    }
   ],
   "source": [
    "#contagem total de sobrevivente agrupados por sexo e quantidade de familiares\n",
    "df_titan.groupby(['sex', 'survived']).count()['sibsp'].plot(kind='barh', grid=True, title='Relação Total de sobreviventes com familiares')"
   ]
  },
  {
   "cell_type": "markdown",
   "metadata": {},
   "source": [
    "O gráfico acima ilustra a relação de homens e mulheres que possuíam familiares a bordo.\n",
    "Podemos notar que o número de mulheres com familiares que sobreviveram é bem maior em relação ao número de homens.\n",
    "\n",
    "Os gráficos abaixo ilustram a mesma analise feita acima, no entanto, nestes casos as pessoas foram agrupadas em classes sócias."
   ]
  },
  {
   "cell_type": "code",
   "execution_count": 15,
   "metadata": {},
   "outputs": [
    {
     "data": {
      "text/plain": [
       "<matplotlib.axes._subplots.AxesSubplot at 0x1c3e8dc0860>"
      ]
     },
     "execution_count": 15,
     "metadata": {},
     "output_type": "execute_result"
    },
    {
     "data": {
      "image/png": "[encoded data removed]",
      "text/plain": [
       "<Figure size 432x288 with 1 Axes>"
      ]
     },
     "metadata": {},
     "output_type": "display_data"
    }
   ],
   "source": [
    "#Contagem de sobreviventes de classe baixa agrupados por sexo e quantidade de irmãos\n",
    "class_3.groupby(['sex','survived']).count()['sibsp'].plot(kind='barh', title='Relação de Sobreviventes de Classe baixa com familiares')"
   ]
  },
  {
   "cell_type": "markdown",
   "metadata": {},
   "source": [
    "Aqui temos a relação de indivíduos de Classe baixa que possuíam parentes a bordo.\n",
    "\n",
    "Neste caso, temos 72 mulheres que sobreviveram e 72 que não. Enquanto que com os homens há 300 não sobreviventes contra 47 que sairam com vida."
   ]
  },
  {
   "cell_type": "code",
   "execution_count": 16,
   "metadata": {},
   "outputs": [
    {
     "data": {
      "text/plain": [
       "<matplotlib.axes._subplots.AxesSubplot at 0x1c3e8e222b0>"
      ]
     },
     "execution_count": 16,
     "metadata": {},
     "output_type": "execute_result"
    },
    {
     "data": {
      "image/png": "[encoded data removed]",
      "text/plain": [
       "<Figure size 432x288 with 1 Axes>"
      ]
     },
     "metadata": {},
     "output_type": "display_data"
    }
   ],
   "source": [
    "#Contagem de sobreviventes de classe média agrupados por sexo e quantidade de irmãos/cônjuges\n",
    "class_2.groupby(['sex', 'survived']).count()['sibsp'].plot(kind='barh', title='Relação de sobreviventes de classe média com familiares')"
   ]
  },
  {
   "cell_type": "markdown",
   "metadata": {},
   "source": [
    "Aqui temos a relação de indivíduos de Classe média que possuíam parentes a bordo.\n",
    "\n",
    "É possivel notar que houveram muito mais mulheres sobreviventes em relação à classe baixa. 70 sobreviventes contra apenas 6 não sobreviventes.\n",
    "\n",
    "Com os homens a situação é similar à classe baixa. 91 não sobreviventes contra 17 sobreviventes. Embora os números seja menores a diferença continua sendo ampla."
   ]
  },
  {
   "cell_type": "code",
   "execution_count": 17,
   "metadata": {},
   "outputs": [
    {
     "data": {
      "text/plain": [
       "<matplotlib.axes._subplots.AxesSubplot at 0x1c3e8e8feb8>"
      ]
     },
     "execution_count": 17,
     "metadata": {},
     "output_type": "execute_result"
    },
    {
     "data": {
      "image/png": "[encoded data removed]",
      "text/plain": [
       "<Figure size 432x288 with 1 Axes>"
      ]
     },
     "metadata": {},
     "output_type": "display_data"
    }
   ],
   "source": [
    "#Contagem de sobreviventes de classe alta agrupados por sexo e quantidade de familiares\n",
    "class_1.groupby(['sex','survived']).count()['sibsp'].plot(kind='barh', title='Relação de sobreviventes de classe alta com familiares')"
   ]
  },
  {
   "cell_type": "markdown",
   "metadata": {},
   "source": [
    "Aqui temos a relação de indivíduos de Classe Alta que possuíam parentes a bordo.\n",
    "\n",
    "Entre os indivíduos de classe alta, os resultados foram mais positivos. Das 94 mulheres, 91 sobreviveram. Enquanto com os homens o número foi de 77 sobreviventes contra 45 não sobreviventes.\n",
    "\n",
    "É possível notar que o número de indivíduos de classe baixa que não sobreviveram é muito maior em relação às classes média e alta."
   ]
  },
  {
   "cell_type": "code",
   "execution_count": 18,
   "metadata": {},
   "outputs": [
    {
     "data": {
      "text/plain": [
       "<matplotlib.axes._subplots.AxesSubplot at 0x1c3e8ee60b8>"
      ]
     },
     "execution_count": 18,
     "metadata": {},
     "output_type": "execute_result"
    },
    {
     "data": {
      "image/png": "[encoded data removed]",
      "text/plain": [
       "<Figure size 432x288 with 1 Axes>"
      ]
     },
     "metadata": {},
     "output_type": "display_data"
    }
   ],
   "source": [
    "df_titan.groupby(['sex','survived']).count()['parch'].plot(kind='barh', title='Relação de sobreviventes com filhos')"
   ]
  },
  {
   "cell_type": "markdown",
   "metadata": {},
   "source": [
    "O gráfico acima ilustra a relação de homens e mulheres que possuíam filhos/pais a bordo.\n",
    "Assim como no grafico que relaciona os familiares a bordo, podemos notar que o número de mulheres com familiares que sobreviveram é bem maior em relação ao número de homens.\n",
    "\n",
    "Os gráficos abaixo ilustram a mesma analise feita acima, no entanto, novamente nestes casos as pessoas foram agrupadas em classes sócias."
   ]
  },
  {
   "cell_type": "code",
   "execution_count": 19,
   "metadata": {},
   "outputs": [
    {
     "data": {
      "text/plain": [
       "<matplotlib.axes._subplots.AxesSubplot at 0x1c3e8e8fdd8>"
      ]
     },
     "execution_count": 19,
     "metadata": {},
     "output_type": "execute_result"
    },
    {
     "data": {
      "image/png": "[encoded data removed]",
      "text/plain": [
       "<Figure size 432x288 with 1 Axes>"
      ]
     },
     "metadata": {},
     "output_type": "display_data"
    }
   ],
   "source": [
    "#Contagem de sobreviventes de classe baixa agrupados por sexo e quantidade se filhos/enteados\n",
    "class_3.groupby(['sex','survived']).count()['parch'].plot(kind='barh', title='Relação de sobreviventes de classe baixa com filhos')"
   ]
  },
  {
   "cell_type": "markdown",
   "metadata": {},
   "source": [
    "Aqui temos a relação de indivíduos de Classe Baixa que possuíam filhos/pais a bordo.\n",
    "\n",
    "Assim como ocorre no grafico que relaciona os sobreviventes de classe baixa com parentes a bordo, aqui há um número igual de mulheres sobreviventes e nao sobreviventes, 72 para cada caso. Enquanto que com os homens o número foi de 300 não sobreviventes contra 47 sobreviventes.\n",
    "\n",
    "Os valores são absolutamente identicos à relação de sobreviventes de classe baixa com parentes à bordo."
   ]
  },
  {
   "cell_type": "code",
   "execution_count": 20,
   "metadata": {},
   "outputs": [
    {
     "data": {
      "text/plain": [
       "<matplotlib.axes._subplots.AxesSubplot at 0x1c3e8fb1ba8>"
      ]
     },
     "execution_count": 20,
     "metadata": {},
     "output_type": "execute_result"
    },
    {
     "data": {
      "image/png": "[encoded data removed]",
      "text/plain": [
       "<Figure size 432x288 with 1 Axes>"
      ]
     },
     "metadata": {},
     "output_type": "display_data"
    }
   ],
   "source": [
    "#Contagem de sobreviventes de classe média agrupados por sexo e quantidade se filhos/enteados\n",
    "class_2.groupby(['sex','survived']).count()['parch'].plot(kind='barh', title='Relação de sobreviventes de classe média com filhos')"
   ]
  },
  {
   "cell_type": "markdown",
   "metadata": {},
   "source": [
    "Aqui temos a relação de indivíduos de Classe Média que possuíam filhos/pais a bordo."
   ]
  },
  {
   "cell_type": "code",
   "execution_count": 21,
   "metadata": {},
   "outputs": [
    {
     "data": {
      "text/plain": [
       "<matplotlib.axes._subplots.AxesSubplot at 0x1c3e8f47c18>"
      ]
     },
     "execution_count": 21,
     "metadata": {},
     "output_type": "execute_result"
    },
    {
     "data": {
      "image/png": "[encoded data removed]",
      "text/plain": [
       "<Figure size 432x288 with 1 Axes>"
      ]
     },
     "metadata": {},
     "output_type": "display_data"
    }
   ],
   "source": [
    "#Contagem de sobreviventes de classe alta agrupados por sexo e quantidade se filhos/enteados\n",
    "class_1.groupby(['sex','survived']).count()['parch'].plot(kind='barh', title='Relação de sobreviventes de classe alta com filhos')"
   ]
  },
  {
   "cell_type": "markdown",
   "metadata": {},
   "source": [
    "Aqui temos a relação de indivíduos de Classe Alta que possuíam filhos/pais a bordo.\n",
    "\n",
    "Em ambas as classes sociais, o número de homens e mulheres sobreviventes é igual tanto para o agrupamento de pessoas com parentes a bordo, quanto para o agrupamento de pessoas com filhos.\n",
    "\n",
    "Possivelmente estes numeros se referem a exatamente os mesmo individuos."
   ]
  },
  {
   "cell_type": "code",
   "execution_count": 22,
   "metadata": {},
   "outputs": [
    {
     "data": {
      "text/plain": [
       "342"
      ]
     },
     "execution_count": 22,
     "metadata": {},
     "output_type": "execute_result"
    }
   ],
   "source": [
    "#Contando o numero de sobreviventes\n",
    "suv_total = df_titan.query('survived == \"1\"')\n",
    "suv_total.count()['survived']"
   ]
  },
  {
   "cell_type": "code",
   "execution_count": 23,
   "metadata": {},
   "outputs": [
    {
     "data": {
      "text/plain": [
       "38.38"
      ]
     },
     "execution_count": 23,
     "metadata": {},
     "output_type": "execute_result"
    }
   ],
   "source": [
    "#proporção de sobreviventes\n",
    "suv_perc = (suv_total.count()['survived'] / df_titan.count()['survived']) * 100\n",
    "round(suv_perc, 2)"
   ]
  },
  {
   "cell_type": "code",
   "execution_count": 24,
   "metadata": {},
   "outputs": [
    {
     "name": "stdout",
     "output_type": "stream",
     "text": [
      "577\n",
      "314\n"
     ]
    }
   ],
   "source": [
    "# Total de homens e mulheres\n",
    "df_male_total = df_titan.query('sex == \"male\"')\n",
    "print(df_male_total.count()['sex'])\n",
    "\n",
    "df_female_total = df_titan.query('sex == \"female\"')\n",
    "print(df_female_total.count()['sex'])"
   ]
  },
  {
   "cell_type": "code",
   "execution_count": 26,
   "metadata": {},
   "outputs": [
    {
     "name": "stdout",
     "output_type": "stream",
     "text": [
      "64.76\n",
      "35.24\n"
     ]
    }
   ],
   "source": [
    "#proporção de homens e mulheres\n",
    "df_male_perc = (df_male_total.count()['sex'] / df_titan.count()['sex']) * 100\n",
    "print(round(df_male_perc, 2))\n",
    "\n",
    "df_female_perc = (df_female_total.count()['sex'] / df_titan.count()['sex']) * 100\n",
    "print(round(df_female_perc, 2))"
   ]
  },
  {
   "cell_type": "code",
   "execution_count": 28,
   "metadata": {},
   "outputs": [
    {
     "name": "stdout",
     "output_type": "stream",
     "text": [
      "Número de homens sobrevivente: 109\n",
      "Número de mulheres sobreviventes: 233\n"
     ]
    }
   ],
   "source": [
    "#contagem de homens e mulheres sobreviventes\n",
    "male_suv = df_male_total.query('survived == \"1\"')\n",
    "female_suv = df_female_total.query('survived == \"1\"')\n",
    "\n",
    "print('Número de homens sobrevivente: {0}\\nNúmero de mulheres sobreviventes: {1}'.format(\n",
    "male_suv.count()['survived'], female_suv.count()['survived']))"
   ]
  },
  {
   "cell_type": "code",
   "execution_count": 29,
   "metadata": {},
   "outputs": [
    {
     "name": "stdout",
     "output_type": "stream",
     "text": [
      "Porcentagem de homens sobreviventes: 31.87%\n",
      "Porcentagem de mulheres sobreviventes: 68.13%\n"
     ]
    }
   ],
   "source": [
    "#proporcão de homens e mulheres sobreviventes\n",
    "male_suv_perc = (male_suv.count()['survived'] / suv_total.count()['survived']) * 100\n",
    "female_suv_perc = (female_suv.count()['survived'] / suv_total.count()['survived']) * 100\n",
    "\n",
    "print('Porcentagem de homens sobreviventes: {0}%\\nPorcentagem de mulheres sobreviventes: {1}%'.format(\n",
    "round(male_suv_perc, 2), round(female_suv_perc, 2)))"
   ]
  },
  {
   "cell_type": "code",
   "execution_count": 30,
   "metadata": {},
   "outputs": [
    {
     "data": {
      "text/plain": [
       "<function matplotlib.pyplot.show>"
      ]
     },
     "execution_count": 30,
     "metadata": {},
     "output_type": "execute_result"
    },
    {
     "data": {
      "image/png": "[encoded data removed]",
      "text/plain": [
       "<Figure size 432x288 with 1 Axes>"
      ]
     },
     "metadata": {},
     "output_type": "display_data"
    }
   ],
   "source": [
    "#Porcentagem entre homens e mulheres sobreviventes\n",
    "locations = [1,2]\n",
    "heights = [female_suv_perc, male_suv_perc]\n",
    "labels = ['Mulheres', 'Homens']\n",
    "colors = ['darkred', 'darkblue']\n",
    "bar_widht = 0.35\n",
    "opacity = 1.8\n",
    "\n",
    "plt.bar(locations, heights, bar_widht, opacity, tick_label=labels, color=colors)\n",
    "plt.title('Porcentagem entre homens e mulheres sobreviventes')\n",
    "plt.xlabel('Sexo')\n",
    "plt.ylabel('Porcentagem')\n",
    "\n",
    "plt.tight_layout()\n",
    "plt.show"
   ]
  },
  {
   "cell_type": "markdown",
   "metadata": {},
   "source": [
    "O gráfico acima ilustra a relação entre homens e mulheres sobreviventes, sem distinção de classe social.\n",
    "\n",
    "Podemos notar que há um valor aproximado de 70% de sobreviventes do sexo feminino e um valor proximo de 35% de sobreviventes do sexo masculino.\n",
    "A taxa de mulheres sobreviventes é quase duas vezes maior que a taxa de homens."
   ]
  },
  {
   "cell_type": "code",
   "execution_count": 31,
   "metadata": {},
   "outputs": [
    {
     "name": "stdout",
     "output_type": "stream",
     "text": [
      "Total de Homens de classe alta: 122\n",
      "Total de Homens de classe média: 108\n",
      "Total de Homens de classe baixa: 347\n",
      "\n",
      "Total de Mulheres de classe alta: 94\n",
      "Total de Mulheres de classe média: 76\n",
      "Total de Mulheres de classe baixa: 144\n"
     ]
    }
   ],
   "source": [
    "#Total de homens e mulheres por classe\n",
    "df_male_1 = class_1.query('sex == \"male\"')\n",
    "df_male_2 = class_2.query('sex == \"male\"')\n",
    "df_male_3 = class_3.query('sex == \"male\"')\n",
    "\n",
    "df_female_1 = class_1.query('sex == \"female\"')\n",
    "df_female_2 = class_2.query('sex == \"female\"')\n",
    "df_female_3 = class_3.query('sex == \"female\"')\n",
    "\n",
    "print('Total de Homens de classe alta: {0}\\nTotal de Homens de classe média: {1}\\nTotal de Homens de classe baixa: {2}\\n\\nTotal de Mulheres de classe alta: {3}\\nTotal de Mulheres de classe média: {4}\\nTotal de Mulheres de classe baixa: {5}'.format(\n",
    "df_male_1.count()['sex'], df_male_2.count()['sex'], df_male_3.count()['sex'],\n",
    "    df_female_1.count()['sex'], df_female_2.count()['sex'], df_female_3.count()['sex']))"
   ]
  },
  {
   "cell_type": "code",
   "execution_count": 33,
   "metadata": {},
   "outputs": [
    {
     "name": "stdout",
     "output_type": "stream",
     "text": [
      "Homens sobreviventes de classe alta: 45\n",
      "Homens sobreviventes de classe media: 17\n",
      "Homens sobreviventes de classe baixa: 47\n",
      "\n",
      "Mulheres sobreviventes de classe alta: 91\n",
      "Mulheres sobreviventes de classe media: 70\n",
      "Mulheres sobreviventes de classe baixa: 72\n"
     ]
    }
   ],
   "source": [
    "#numero de sobreviventes por classe social\n",
    "male_suv_1 = df_male_1.query('survived == \"1\"')\n",
    "male_suv_2 = df_male_2.query('survived == \"1\"')\n",
    "male_suv_3 = df_male_3.query('survived == \"1\"')\n",
    "\n",
    "female_suv_1 = df_female_1.query('survived == \"1\"')\n",
    "female_suv_2 = df_female_2.query('survived == \"1\"')\n",
    "female_suv_3 = df_female_3.query('survived == \"1\"')\n",
    "\n",
    "print('Homens sobreviventes de classe alta: {0}\\nHomens sobreviventes de classe media: {1}\\nHomens sobreviventes de classe baixa: {2}\\n\\nMulheres sobreviventes de classe alta: {3}\\nMulheres sobreviventes de classe media: {4}\\nMulheres sobreviventes de classe baixa: {5}'.format(\n",
    "male_suv_1.count()['survived'], male_suv_2.count()['survived'], male_suv_3.count()['survived'], female_suv_1.count()['survived'], \n",
    "female_suv_2.count()['survived'], female_suv_3.count()['survived']))"
   ]
  },
  {
   "cell_type": "code",
   "execution_count": 34,
   "metadata": {},
   "outputs": [
    {
     "name": "stdout",
     "output_type": "stream",
     "text": [
      "Porcentagem de sobreviventes de classe alta: 39.77%\n",
      "Porcentagem de sobreviventes de classe média: 25.44%\n",
      "Porcentagem de sobreviventes de classe baixa: 34.8%\n"
     ]
    }
   ],
   "source": [
    "#calculando as proporções totais de sobreviventes dividas em classes sociais\n",
    "suv_1 = class_1.query('survived == \"1\"')\n",
    "suv_2 = class_2.query('survived == \"1\"')\n",
    "suv_3 = class_3.query('survived == \"1\"')\n",
    "\n",
    "suv_1_perc = (suv_1.count()['survived'] / suv_total.count()['survived']) * 100\n",
    "suv_2_perc = (suv_2.count()['survived'] / suv_total.count()['survived']) * 100\n",
    "suv_3_perc = (suv_3.count()['survived'] / suv_total.count()['survived']) * 100\n",
    "\n",
    "print('Porcentagem de sobreviventes de classe alta: {0}%\\nPorcentagem de sobreviventes de classe média: {1}%\\nPorcentagem de sobreviventes de classe baixa: {2}%'.format(\n",
    "round(suv_1_perc, 2), round(suv_2_perc, 2), round(suv_3_perc, 2)))"
   ]
  },
  {
   "cell_type": "code",
   "execution_count": 35,
   "metadata": {},
   "outputs": [
    {
     "data": {
      "text/plain": [
       "<function matplotlib.pyplot.show>"
      ]
     },
     "execution_count": 35,
     "metadata": {},
     "output_type": "execute_result"
    },
    {
     "data": {
      "image/png": "[encoded data removed]",
      "text/plain": [
       "<Figure size 432x288 with 1 Axes>"
      ]
     },
     "metadata": {},
     "output_type": "display_data"
    }
   ],
   "source": [
    "#Porcentagem de sobreviventes por classe social\n",
    "\n",
    "heights = [suv_1_perc, suv_2_perc, suv_3_perc]\n",
    "labels = ['Alta', 'Média', 'Baixa']\n",
    "colors = ['lightblue', 'lightgreen', 'red']\n",
    "explode = (0.1, 0, 0)\n",
    "\n",
    "plt.pie(heights, explode=explode, labels=labels, colors=colors, autopct='%1.2f%%', shadow=True, startangle=90)\n",
    "plt.axis('equal')\n",
    "plt.show"
   ]
  },
  {
   "cell_type": "markdown",
   "metadata": {},
   "source": [
    "No gráfico acima podemos ver a taxa de sobreviventes sem divisão entre homens e mulheres. \n",
    "Indivíduos de classe social alta somam 39,77% dos sobreviventes, seguidos pelos indivíduos pertencentes à classe social baixa, com aproximadamente 35% dos sobreviventes. Por fim, os indivíduos de classe social média representam pouco mais de 25% dos sobreviventes."
   ]
  },
  {
   "cell_type": "code",
   "execution_count": 36,
   "metadata": {},
   "outputs": [
    {
     "name": "stdout",
     "output_type": "stream",
     "text": [
      "Proporção de homens sobreviventes de classe alta: 41.28%\n",
      "Proporção de homens sobreviventes de classe media: 15.6%\n",
      "Proporção de homens sobreviventes de classe baixa: 15.6%\n",
      "\n",
      "Proporção de mulheres sobreviventes de classe alta: 39.06%\n",
      "Proporção de mulheres sobreviventes de classe media: 30.04%\n",
      "Proporção de mulheres sobreviventes de classe baixa: 30.9%\n"
     ]
    }
   ],
   "source": [
    "#calculando as proporções de sobreviventes divididas entre homens e mulheres\n",
    "male_perc_1 = (male_suv_1.count()['survived'] / male_suv.count()['survived']) * 100\n",
    "male_perc_2 = (male_suv_2.count()['survived'] / male_suv.count()['survived']) * 100\n",
    "male_perc_3 = (male_suv_2.count()['survived'] / male_suv.count()['survived']) * 100\n",
    "\n",
    "female_perc_1 = (female_suv_1.count()['survived'] / female_suv.count()['survived']) * 100\n",
    "female_perc_2 = (female_suv_2.count()['survived'] / female_suv.count()['survived']) * 100\n",
    "female_perc_3 = (female_suv_3.count()['survived'] / female_suv.count()['survived']) * 100\n",
    "\n",
    "print('Proporção de homens sobreviventes de classe alta: {0}%\\nProporção de homens sobreviventes de classe media: {1}%\\nProporção de homens sobreviventes de classe baixa: {2}%\\n\\nProporção de mulheres sobreviventes de classe alta: {3}%\\nProporção de mulheres sobreviventes de classe media: {4}%\\nProporção de mulheres sobreviventes de classe baixa: {5}%'.format(\n",
    "    round(male_perc_1, 2),round(male_perc_2, 2),round(male_perc_3, 2), \n",
    "    round(female_perc_1, 2),round(female_perc_2, 2),round(female_perc_3, 2)))"
   ]
  },
  {
   "cell_type": "code",
   "execution_count": 37,
   "metadata": {},
   "outputs": [
    {
     "data": {
      "text/plain": [
       "<function matplotlib.pyplot.show>"
      ]
     },
     "execution_count": 37,
     "metadata": {},
     "output_type": "execute_result"
    },
    {
     "data": {
      "image/png": "[encoded data removed]",
      "text/plain": [
       "<Figure size 432x288 with 1 Axes>"
      ]
     },
     "metadata": {},
     "output_type": "display_data"
    }
   ],
   "source": [
    "#Porcentagem de homens sobreviventes\n",
    "\n",
    "heights = [male_perc_1, male_perc_2, male_perc_3]\n",
    "labels = ['Alta', 'Média', 'Baixa']\n",
    "colors = ['lightblue', 'lightgreen', 'red']\n",
    "explode = (0.1, 0, 0)\n",
    "\n",
    "plt.pie(heights, explode=explode, labels=labels, colors=colors, autopct='%1.2f%%', shadow=True, startangle=90)\n",
    "plt.axis('equal')\n",
    "plt.show"
   ]
  },
  {
   "cell_type": "markdown",
   "metadata": {},
   "source": [
    "Aqui é possível notar que, dentre os sobreviventes do sexo masculino, aproximadamente 57% eram de classe social alta, enquanto os indivíduos das classes média e baixa representam pouco mais de 21,5% cada."
   ]
  },
  {
   "cell_type": "code",
   "execution_count": 38,
   "metadata": {},
   "outputs": [
    {
     "data": {
      "text/plain": [
       "<function matplotlib.pyplot.show>"
      ]
     },
     "execution_count": 38,
     "metadata": {},
     "output_type": "execute_result"
    },
    {
     "data": {
      "image/png": "[encoded data removed]",
      "text/plain": [
       "<Figure size 432x288 with 1 Axes>"
      ]
     },
     "metadata": {},
     "output_type": "display_data"
    }
   ],
   "source": [
    "#Porcentagem de mulheres sobreviventes\n",
    "\n",
    "heights = [female_perc_1, female_perc_2, female_perc_3]\n",
    "labels = ['Alta', 'Média', 'Baixa']\n",
    "colors = ['lightblue', 'lightgreen', 'red']\n",
    "explode = (0.1, 0, 0)\n",
    "\n",
    "plt.pie(heights, explode=explode, labels=labels, colors=colors, autopct='%1.2f%%', shadow=True, startangle=90)\n",
    "plt.axis('equal')\n",
    "plt.show"
   ]
  },
  {
   "cell_type": "markdown",
   "metadata": {},
   "source": [
    "Entre os indivíduos do sexo feminino a diferença é um pouco menor, cerca de 39% dos sobreviventes foram de classe social alta, enquanto as classes média e baixa representam um valor aproximado de 30% cada."
   ]
  },
  {
   "cell_type": "markdown",
   "metadata": {},
   "source": [
    "__CONCLUSÃO__\n",
    "\n",
    "Diante dos resultados apresentados, podemos concluir que pessoas de classe social alta tiveram prioridade no resgate, dado o elevado número de sobreviventes em relação às classes média e baixa.\n",
    "\n",
    "Também concluímos que houveram muito mais sobreviventes mulheres que homens, independente da classe social. Isso provavelmente se deve ao fato de que mulheres e crianças tem prioridade em situações de resgate.\n"
   ]
  },
  {
   "cell_type": "markdown",
   "metadata": {},
   "source": [
    "__LIMITAÇÕES__\n",
    "\n",
    "Uma dificuldade percebida foi a falta de dados em algumas colunas que continham informações relevantes.\n",
    "    \n",
    "Na coluna “age” (idade) dos 891 registros, 177 não continham informações sobre a idade dos passageiros. Com estas informações seria possível determinar se a idade dos indivíduos foi um fator que contribuiu ou não para a sobrevivência.\n",
    "    \n",
    "Da mesma forma, a coluna “cabin”, que se refere à identificação da cabine dos passageiros, continha 687 dos 891 registros em branco, o que impossibilita determinar se a posição da cabine no navio foi um fator relevante na sobrevivência dos indivíduos.\n"
   ]
  },
  {
   "cell_type": "code",
   "execution_count": null,
   "metadata": {},
   "outputs": [],
   "source": []
  }
 ],
 "metadata": {
  "kernelspec": {
   "display_name": "Python 3",
   "language": "python",
   "name": "python3"
  },
  "language_info": {
   "codemirror_mode": {
    "name": "ipython",
    "version": 3
   },
   "file_extension": ".py",
   "mimetype": "text/x-python",
   "name": "python",
   "nbconvert_exporter": "python",
   "pygments_lexer": "ipython3",
   "version": "3.6.4"
  }
 },
 "nbformat": 4,
 "nbformat_minor": 2
}
